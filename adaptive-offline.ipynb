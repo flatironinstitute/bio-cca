{
 "cells": [
  {
   "cell_type": "markdown",
   "metadata": {},
   "source": [
    "# Adaptive Bio-CCA demo"
   ]
  },
  {
   "cell_type": "markdown",
   "metadata": {},
   "source": [
    "### Imports"
   ]
  },
  {
   "cell_type": "code",
   "execution_count": 3,
   "metadata": {},
   "outputs": [],
   "source": [
    "import numpy as np\n",
    "import pickle as pkl\n",
    "import matplotlib.pyplot as plt\n",
    "import time\n",
    "\n",
    "from cca_algorithms import bio_cca, gen_oja, bio_rrr, asy_cca, adaptive_bio_cca\n",
    "from util import subspace_error, correlation_matrix, add_fill_lines"
   ]
  },
  {
   "cell_type": "markdown",
   "metadata": {},
   "source": [
    "### Load dataset"
   ]
  },
  {
   "cell_type": "code",
   "execution_count": 4,
   "metadata": {},
   "outputs": [],
   "source": [
    "# dataset = 'synthetic'\n",
    "# dataset = 'mediamill'\n",
    "dataset = 'adaptive'\n",
    "# dataset = 'synthetic_A'\n",
    "# dataset = 'synthetic_B'\n",
    "# dataset = 'synthetic_C'"
   ]
  },
  {
   "cell_type": "code",
   "execution_count": 5,
   "metadata": {},
   "outputs": [],
   "source": [
    "# load dataset\n",
    "\n",
    "X, Y, samples = {}, {}, {}\n",
    "\n",
    "if dataset=='synthetic':\n",
    "    modes = [\"A\"]\n",
    "    X[\"A\"] = np.load('datasets/synthetic/view1.npy')\n",
    "    Y[\"A\"] = np.load('datasets/synthetic/view2.npy')\n",
    "elif dataset=='mediamill':\n",
    "    modes = [\"A\"]\n",
    "    X[\"A\"] = np.load('datasets/mediamill/view1.npy')\n",
    "    Y[\"A\"] = np.load('datasets/mediamill/view2.npy')\n",
    "elif dataset=='adaptive':\n",
    "    modes = [\"A\", \"B\", \"C\"]\n",
    "    X[\"A\"] = np.load('datasets/adaptive/view1a.npy')\n",
    "    Y[\"A\"] = np.load('datasets/adaptive/view2a.npy')\n",
    "    X[\"B\"] = np.load('datasets/adaptive/view1b.npy')\n",
    "    Y[\"B\"] = np.load('datasets/adaptive/view2b.npy')\n",
    "    X[\"C\"] = np.load('datasets/adaptive/view1c.npy')\n",
    "    Y[\"C\"] = np.load('datasets/adaptive/view2c.npy')\n",
    "elif dataset=='synthetic_A':\n",
    "    modes = [\"A\"]\n",
    "    X[\"A\"] = np.load('datasets/adaptive/view1a.npy')\n",
    "    Y[\"A\"] = np.load('datasets/adaptive/view2a.npy')\n",
    "elif dataset=='synthetic_B':\n",
    "    modes = [\"A\"]\n",
    "    X[\"A\"] = np.load('datasets/adaptive/view1b.npy')\n",
    "    Y[\"A\"] = np.load('datasets/adaptive/view2b.npy')\n",
    "elif dataset=='synthetic_C':\n",
    "    modes = [\"A\"]\n",
    "    X[\"A\"] = np.load('datasets/adaptive/view1c.npy')\n",
    "    Y[\"A\"] = np.load('datasets/adaptive/view2c.npy')\n",
    "\n",
    "# dataset dimensions\n",
    "\n",
    "x_dim = X[\"A\"].shape[0]\n",
    "y_dim = Y[\"A\"].shape[0]\n",
    "\n",
    "for mode in modes:\n",
    "    samples[mode] = X[mode].shape[1]"
   ]
  },
  {
   "cell_type": "markdown",
   "metadata": {},
   "source": [
    "### Offline solution"
   ]
  },
  {
   "cell_type": "code",
   "execution_count": 6,
   "metadata": {},
   "outputs": [],
   "source": [
    "Cxx, Cyy, Cxy, Rxy, u, canonical_correlations, vh = {}, {}, {}, {}, {}, {}, {}\n",
    "\n",
    "for mode in modes:\n",
    "    Cxx[mode] = X[mode]@X[mode].T/samples[mode]\n",
    "    Cyy[mode] = Y[mode]@Y[mode].T/samples[mode]\n",
    "    Cxy[mode] = X[mode]@Y[mode].T/samples[mode]\n",
    "    Rxy[mode] = correlation_matrix(Cxx[mode],Cyy[mode],Cxy[mode])\n",
    "    u[mode], canonical_correlations[mode], vh[mode] = np.linalg.svd(Rxy[mode])"
   ]
  },
  {
   "cell_type": "markdown",
   "metadata": {},
   "source": [
    "### Plot canonical correlations"
   ]
  },
  {
   "cell_type": "code",
   "execution_count": 7,
   "metadata": {},
   "outputs": [
    {
     "data": {
      "image/png": "[encoded data removed]",
      "text/plain": [
       "<Figure size 1080x360 with 3 Axes>"
      ]
     },
     "metadata": {
      "needs_background": "light"
     },
     "output_type": "display_data"
    }
   ],
   "source": [
    "fig = plt.figure(figsize=(5*len(modes),5))\n",
    "\n",
    "i = 1\n",
    "\n",
    "for mode in modes:\n",
    "\n",
    "    ax = plt.subplot(1, len(modes), i)\n",
    "\n",
    "    ax.plot(canonical_correlations[mode], 'o', color='black')\n",
    "    plt.xlim(-.5,9.5)\n",
    "    plt.ylim(0,1)\n",
    "    plt.title(f'Canonical correlations ({mode})')\n",
    "    plt.xlabel('i')\n",
    "    plt.ylabel('rho(i)')\n",
    "    plt.grid()\n",
    "    \n",
    "    i+=1\n",
    "\n",
    "plt.show()"
   ]
  },
  {
   "cell_type": "code",
   "execution_count": 13,
   "metadata": {},
   "outputs": [
    {
     "data": {
      "image/png": "[encoded data removed]",
      "text/plain": [
       "<Figure size 1080x360 with 3 Axes>"
      ]
     },
     "metadata": {
      "needs_background": "light"
     },
     "output_type": "display_data"
    }
   ],
   "source": [
    "t_syn = range(1,11)\n",
    "t_mm = range(1,11)\n",
    "\n",
    "fig = plt.figure(figsize=(15,5))\n",
    "\n",
    "ax_synth = plt.subplot(1, 3, 1)\n",
    "\n",
    "plt.plot(t_syn, canonical_correlations['A'][0:10], 'o', ms=5, color='black')\n",
    "plt.xlim(.5,10.5)\n",
    "plt.ylim(0,1.05)\n",
    "plt.title('Distribution 1')\n",
    "plt.xlabel('Canonical correlation index')\n",
    "plt.ylabel('Canonical correlation')\n",
    "plt.grid(axis=\"y\")\n",
    "\n",
    "xticks = np.arange(1, 11, 1)\n",
    "yticks = np.arange(0, 1.1, .1)\n",
    "\n",
    "ax_synth.set_xticks(xticks)\n",
    "ax_synth.set_yticks(yticks)\n",
    "\n",
    "ax_mm = plt.subplot(1, 3, 2)\n",
    "\n",
    "plt.plot(t_syn, canonical_correlations['B'][0:10], 'o', ms=5, color='black')\n",
    "plt.xlim(.5,10.5)\n",
    "plt.ylim(0,1.05)\n",
    "plt.title('Distribution 2')\n",
    "plt.xlabel('Canonical correlation index')\n",
    "plt.grid(axis=\"y\")\n",
    "\n",
    "ax_mm.set_xticks(xticks)\n",
    "ax_mm.set_yticks(yticks)\n",
    "\n",
    "ax_mm = plt.subplot(1, 3, 3)\n",
    "\n",
    "plt.plot(t_syn, canonical_correlations['C'][0:10], 'o', ms=5, color='black')\n",
    "plt.xlim(.5,10.5)\n",
    "plt.ylim(0,1.05)\n",
    "plt.title('Distribution 3')\n",
    "plt.xlabel('Canonical correlation index')\n",
    "plt.grid(axis=\"y\")\n",
    "\n",
    "ax_mm.set_xticks(xticks)\n",
    "ax_mm.set_yticks(yticks)\n",
    "\n",
    "# plt.show()\n",
    "plt.savefig(f'plots/can_cor_nonstationary.png', dpi=300, transparent='true', bbox_inches='tight')"
   ]
  },
  {
   "cell_type": "code",
   "execution_count": 764,
   "metadata": {},
   "outputs": [],
   "source": [
    "z_dim = 10; alpha = 1.3"
   ]
  },
  {
   "cell_type": "code",
   "execution_count": 765,
   "metadata": {},
   "outputs": [],
   "source": [
    "r = {}\n",
    "\n",
    "for mode in modes:\n",
    "    r[mode] = min(sum(1 for i in canonical_correlations[mode] if 1+i>alpha),z_dim)"
   ]
  },
  {
   "cell_type": "code",
   "execution_count": 766,
   "metadata": {},
   "outputs": [],
   "source": [
    "# Optimal subspace projections\n",
    "\n",
    "Ux, Uy, Px_opt, Py_opt = {}, {}, {}, {}\n",
    "\n",
    "for mode in modes:\n",
    "    Ux[mode] = u[mode][:,:r[mode]]\n",
    "    Uy[mode] = vh[mode].T[:,:r[mode]]\n",
    "\n",
    "    Px_opt[mode] = Ux[mode]@Ux[mode].T\n",
    "    Py_opt[mode] = Uy[mode]@Uy[mode].T"
   ]
  },
  {
   "cell_type": "markdown",
   "metadata": {},
   "source": [
    "### Offline algorithm"
   ]
  },
  {
   "cell_type": "code",
   "execution_count": 767,
   "metadata": {},
   "outputs": [],
   "source": [
    "# # Offline algorithm parameters\n",
    "\n",
    "# trials = 1; eta = 1e-1; tau = .5\n",
    "\n",
    "# iters = 5000; total_iters = 0\n",
    "\n",
    "# for mode in modes:\n",
    "#     total_iters += iters"
   ]
  },
  {
   "cell_type": "code",
   "execution_count": 768,
   "metadata": {},
   "outputs": [],
   "source": [
    "# start_time = time.time()\n",
    "\n",
    "# alg_subspacex_error = {}\n",
    "# alg_subspacex_error['Adaptive Bio-CCA'] = np.zeros((trials,total_iters))\n",
    "\n",
    "# for i_trial in range(trials):\n",
    "    \n",
    "#     adaptive_Vx = np.zeros((total_iters,x_dim,z_dim))\n",
    "#     adaptive_Vy = np.zeros((total_iters,y_dim,z_dim))\n",
    "    \n",
    "#     print(f'Trial {i_trial+1} out of {trials}:')\n",
    "                    \n",
    "#     print('Running offline algorithms...')\n",
    "    \n",
    "#     Wx = np.random.randn(z_dim,x_dim)/np.sqrt(x_dim)\n",
    "#     Wy = np.random.randn(z_dim,y_dim)/np.sqrt(y_dim)\n",
    "#     P = np.eye(z_dim)\n",
    "    \n",
    "#     prev_iters = 0\n",
    "    \n",
    "#     for mode in modes:\n",
    "        \n",
    "#         print(f'Mode {mode}:')\n",
    "        \n",
    "#         # Offline updates\n",
    "\n",
    "#         for i_iter in range(iters):\n",
    "            \n",
    "#             PP_inv = np.linalg.inv(P@P.T+alpha*np.eye(z_dim))\n",
    "#             Wx += 2*eta*(PP_inv@(Wx@Cxx[mode]+Wy@Cxy[mode].T)-Wx@Cxx[mode])\n",
    "#             Wy += 2*eta*(PP_inv@(Wx@Cxy[mode]+Wy@Cyy[mode].T)-Wy@Cyy[mode])\n",
    "#             P += (eta/tau)*(PP_inv@(Wx@Cxx[mode]@Wx.T+Wx@Cxy[mode]@Wy.T+Wy@Cxy[mode].T@Wx.T+Wy@Cyy[mode]@Wy.T)@PP_inv@P-P)\n",
    "\n",
    "#             adaptive_Vx[i_iter] = Wx.T@PP_inv \n",
    "#             adaptive_Vy[i_iter] = Wy.T@PP_inv\n",
    "\n",
    "#         print(f'Elapsed time: {time.time()-start_time} seconds')\n",
    "                \n",
    "#         # Compute error\n",
    "\n",
    "#         print('Computing errors...')\n",
    "\n",
    "#         for i_iter in range(iters):\n",
    "#             ux, sx, vxh = np.linalg.svd(adaptive_Vx[i_iter])\n",
    "#             alg_subspacex_error['Adaptive Bio-CCA'][i_trial,prev_iters+i_iter] = subspace_error(ux[:,:r[mode]], Px_opt[mode])\n",
    "            \n",
    "#         prev_iters += iters\n",
    "\n",
    "# print('Trials complete')"
   ]
  },
  {
   "cell_type": "markdown",
   "metadata": {},
   "source": [
    "#### Plots"
   ]
  },
  {
   "cell_type": "code",
   "execution_count": 769,
   "metadata": {},
   "outputs": [],
   "source": [
    "# font = {'weight' : 'normal', 'size' : 15}\n",
    "\n",
    "# plt.rc('xtick', labelsize=13) \n",
    "# plt.rc('ytick', labelsize=13) \n",
    "\n",
    "# plt.rc('font', **font)"
   ]
  },
  {
   "cell_type": "code",
   "execution_count": 770,
   "metadata": {},
   "outputs": [],
   "source": [
    "# colors = {}\n",
    "\n",
    "# colors['Adaptive Bio-CCA'] = 'tab:blue'"
   ]
  },
  {
   "cell_type": "code",
   "execution_count": 771,
   "metadata": {},
   "outputs": [],
   "source": [
    "# algorithms = ['Adaptive Bio-CCA']"
   ]
  },
  {
   "cell_type": "code",
   "execution_count": 772,
   "metadata": {},
   "outputs": [],
   "source": [
    "# linewidth = 2\n",
    "\n",
    "# t = list(range(total_iters))\n",
    "\n",
    "# fig = plt.figure(figsize=(5,5))\n",
    "\n",
    "# ax = plt.subplot(1, 1, 1)\n",
    "\n",
    "# for alg in algorithms:\n",
    "#     add_fill_lines(ax, t, alg_subspacex_error[alg], plot_kwargs={'ls': '-', 'lw': linewidth, 'label': alg, 'color': colors[alg]}, ci_kwargs={'color': colors[alg]})\n",
    "\n",
    "# ax.loglog()\n",
    "\n",
    "# plt.title(f\"alpha = {alpha}\")\n",
    "# plt.grid()\n",
    "# plt.xlabel('Sample #')\n",
    "# plt.ylabel('Vx subspace error')\n",
    "\n",
    "# plt.show()"
   ]
  },
  {
   "cell_type": "markdown",
   "metadata": {},
   "source": [
    "### Online algorithm"
   ]
  },
  {
   "cell_type": "code",
   "execution_count": 799,
   "metadata": {},
   "outputs": [],
   "source": [
    "# Online algorithm parameters\n",
    "\n",
    "z_dim = 10; alpha = 1.2\n",
    "\n",
    "trials = 5; epochs = 3; eta = 1e-3; tau = .5\n",
    "\n",
    "total_samples = 0\n",
    "\n",
    "for mode in modes:\n",
    "    total_samples += samples[mode]*epochs"
   ]
  },
  {
   "cell_type": "code",
   "execution_count": 800,
   "metadata": {},
   "outputs": [],
   "source": [
    "optimal_eigs = np.zeros(z_dim)\n",
    "optimal_eigs[-r[\"A\"]:] = np.ones(r[\"A\"])"
   ]
  },
  {
   "cell_type": "code",
   "execution_count": 801,
   "metadata": {},
   "outputs": [],
   "source": [
    "def step(t):\n",
    "    return .01/(1+1e-3*t)"
   ]
  },
  {
   "cell_type": "code",
   "execution_count": 802,
   "metadata": {},
   "outputs": [
    {
     "name": "stdout",
     "output_type": "stream",
     "text": [
      "Trial 1 out of 5:\n",
      "Running offline algorithms...\n",
      "Mode A:\n",
      "Epoch 1 out of 3:\n",
      "Elapsed time: 36.67253494262695 seconds\n",
      "Epoch 2 out of 3:\n",
      "Elapsed time: 72.05330801010132 seconds\n",
      "Epoch 3 out of 3:\n",
      "Elapsed time: 106.95253300666809 seconds\n",
      "Trial 2 out of 5:\n",
      "Running offline algorithms...\n",
      "Mode A:\n",
      "Epoch 1 out of 3:\n",
      "Elapsed time: 142.79367685317993 seconds\n",
      "Epoch 2 out of 3:\n",
      "Elapsed time: 178.64142298698425 seconds\n",
      "Epoch 3 out of 3:\n",
      "Elapsed time: 213.36159086227417 seconds\n",
      "Trial 3 out of 5:\n",
      "Running offline algorithms...\n",
      "Mode A:\n",
      "Epoch 1 out of 3:\n",
      "Elapsed time: 249.07049584388733 seconds\n",
      "Epoch 2 out of 3:\n",
      "Elapsed time: 284.9558639526367 seconds\n",
      "Epoch 3 out of 3:\n",
      "Elapsed time: 322.1974067687988 seconds\n",
      "Trial 4 out of 5:\n",
      "Running offline algorithms...\n",
      "Mode A:\n",
      "Epoch 1 out of 3:\n",
      "Elapsed time: 359.91537499427795 seconds\n",
      "Epoch 2 out of 3:\n",
      "Elapsed time: 399.23319482803345 seconds\n",
      "Epoch 3 out of 3:\n",
      "Elapsed time: 436.37504506111145 seconds\n",
      "Trial 5 out of 5:\n",
      "Running offline algorithms...\n",
      "Mode A:\n",
      "Epoch 1 out of 3:\n",
      "Elapsed time: 475.3396620750427 seconds\n",
      "Epoch 2 out of 3:\n",
      "Elapsed time: 513.5251748561859 seconds\n",
      "Epoch 3 out of 3:\n",
      "Elapsed time: 549.5915460586548 seconds\n",
      "Trials complete\n"
     ]
    }
   ],
   "source": [
    "start_time = time.time()\n",
    "\n",
    "alg_subspacex_error, alg_rank, alg_time, alg_whitening_error = {}, {}, {}, {}\n",
    "alg_subspacex_error['Adaptive Bio-CCA'] = np.zeros((trials,total_samples))\n",
    "alg_rank['Adaptive Bio-CCA'] = np.zeros((trials,total_samples))\n",
    "alg_time['Adaptive Bio-CCA'] = np.zeros((trials,total_samples))\n",
    "alg_whitening_error['Adaptive Bio-CCA'] = np.zeros((trials,total_samples))\n",
    "\n",
    "alg_subspacex_error['Bio-RRR'] = np.zeros((trials,total_samples))\n",
    "alg_time['Bio-RRR'] = np.zeros((trials,total_samples))\n",
    "\n",
    "for i_trial in range(trials):\n",
    "    \n",
    "#     adaptive_Vx = np.zeros((total_samples,x_dim,z_dim))\n",
    "#     adaptive_Vy = np.zeros((total_samples,y_dim,z_dim))\n",
    "\n",
    "    biorrr = bio_rrr(r[\"A\"],x_dim,y_dim,dataset)\n",
    "#     biorrr_Vx = np.zeros((iters,x_dim,r[\"A\"]))\n",
    "#     biorrr_Vy = np.zeros((iters,y_dim,r[\"A\"]))\n",
    "\n",
    "    print(f'Trial {i_trial+1} out of {trials}:')\n",
    "                    \n",
    "    print('Running offline algorithms...')\n",
    "    \n",
    "    Wx = np.random.randn(z_dim,x_dim)/np.sqrt(x_dim)\n",
    "    Wy = np.random.randn(z_dim,y_dim)/np.sqrt(y_dim)\n",
    "    P = np.eye(z_dim)\n",
    "    \n",
    "    adaptive = adaptive_bio_cca(z_dim,x_dim,y_dim,alpha,dataset,P0=P,Wx0=Wx,Wy0=Wy,eta=step,tau=.5)\n",
    "\n",
    "    prev_iters = 0\n",
    "    \n",
    "    for mode in modes:\n",
    "        \n",
    "        print(f'Mode {mode}:')\n",
    "        \n",
    "        for i_epoch in range(epochs):\n",
    "            \n",
    "            print(f'Epoch {i_epoch+1} out of {epochs}:')\n",
    "        \n",
    "            # Online updates\n",
    "\n",
    "            idx = np.random.permutation(samples[mode])\n",
    "\n",
    "            # Online updates\n",
    "\n",
    "            for i_sample in range(samples[mode]):\n",
    "\n",
    "                i_iter = prev_iters + i_epoch*samples[mode] + i_sample\n",
    "\n",
    "                x = X[mode][:,idx[i_sample]]\n",
    "                y = Y[mode][:,idx[i_sample]]\n",
    "                                \n",
    "                checkpoint = time.time()\n",
    "                biorrr_Vx, biorrr_Vy = biorrr.fit_next(x,y)\n",
    "                alg_time['Bio-RRR'][i_trial,i_iter] = alg_time['Bio-RRR'][i_trial,max(i_iter-1,0)] + time.time() - checkpoint\n",
    "                \n",
    "                ux, sx, vxh = np.linalg.svd(biorrr_Vx)\n",
    "                alg_subspacex_error['Bio-RRR'][i_trial,i_iter] = subspace_error(ux[:,:r[mode]], Px_opt[mode])\n",
    "                \n",
    "                checkpoint = time.time()\n",
    "                \n",
    "                a = Wx@x\n",
    "                b = Wy@y\n",
    "\n",
    "                # neural dynamics\n",
    "\n",
    "                PP_inv = np.linalg.inv(P@P.T+alpha*np.eye(z_dim))\n",
    "\n",
    "                z = PP_inv@(a+b)\n",
    "                n = P.T@z\n",
    "\n",
    "                # synaptic updates\n",
    "\n",
    "                eta = step(i_iter)\n",
    "\n",
    "                Wx += 2*eta*np.outer(z-a,x)\n",
    "                Wy += 2*eta*np.outer(z-b,y)\n",
    "                P += (eta/tau)*(np.outer(z,n)-P)\n",
    "\n",
    "                alg_time['Adaptive Bio-CCA'][i_trial,i_iter] = alg_time['Adaptive Bio-CCA'][i_trial,max(i_iter-1,0)] + time.time() - checkpoint\n",
    "\n",
    "                adaptive_Vx = Wx.T@PP_inv \n",
    "                adaptive_Vy = Wy.T@PP_inv\n",
    "                \n",
    "                Czz = adaptive_Vx.T@Cxx[mode]@adaptive_Vx+adaptive_Vx.T@Cxy[mode]@adaptive_Vy+adaptive_Vy.T@Cxy[mode].T@adaptive_Vx+adaptive_Vy.T@Cyy[mode]@adaptive_Vy\n",
    "                Czz_eigs = np.sort(np.linalg.eig(Czz)[0])\n",
    "\n",
    "                ux, sx, vxh = np.linalg.svd(adaptive_Vx)\n",
    "                alg_subspacex_error['Adaptive Bio-CCA'][i_trial,i_iter] = subspace_error(ux[:,:r[mode]], Px_opt[mode])\n",
    "#                 alg_rank['Adaptive Bio-CCA'][i_trial,i_iter] = np.trace(adaptive_Vx.T@Cxx[mode]@adaptive_Vx+adaptive_Vx.T@Cxy[mode]@adaptive_Vy+adaptive_Vy.T@Cxy[mode].T@adaptive_Vx+adaptive_Vy.T@Cyy[mode]@adaptive_Vy)\n",
    "                alg_rank['Adaptive Bio-CCA'][i_trial,i_iter] = np.trace(Czz)\n",
    "                alg_whitening_error['Adaptive Bio-CCA'][i_trial,i_iter] = np.linalg.norm(Czz_eigs-optimal_eigs)**2/z_dim\n",
    "                \n",
    "#                 adaptive_Vx, adaptive_Vy = adaptive.fit_next(x,y)\n",
    "                \n",
    "#                 ux, sx, vxh = np.linalg.svd(adaptive_Vx)\n",
    "#                 alg_subspacex_error['Adaptive Bio-CCA'][i_trial,i_iter] = subspace_error(ux[:,:r[mode]], Px_opt[mode])\n",
    "#                 alg_rank['Adaptive Bio-CCA'][i_trial,i_iter] = np.trace(adaptive_Vx.T@Cxx[mode]@adaptive_Vx+adaptive_Vx.T@Cxy[mode]@adaptive_Vy+adaptive_Vy.T@Cxy[mode].T@adaptive_Vx+adaptive_Vy.T@Cyy[mode]@adaptive_Vy)\n",
    "\n",
    "            print(f'Elapsed time: {time.time()-start_time} seconds')\n",
    "                \n",
    "        prev_iters+=samples[mode]*epochs\n",
    "\n",
    "# save data \n",
    "            \n",
    "pkl.dump(alg_subspacex_error, open(f'error/adaptive_{dataset}_alpha-{alpha}_{z_dim}-dim_subspacex_error.p', 'wb'))\n",
    "pkl.dump(alg_time, open(f'error/adaptive_{dataset}_alpha-{alpha}_{z_dim}-dim_time.p', 'wb'))\n",
    "pkl.dump(alg_rank, open(f'error/adaptive_{dataset}_alpha-{alpha}_{z_dim}-dim_rank.p', 'wb'))\n",
    "pkl.dump(alg_whitening_error, open(f'error/adaptive_{dataset}_alpha-{alpha}_{z_dim}-dim_whitening_error.p', 'wb'))\n",
    "\n",
    "print('Trials complete')"
   ]
  },
  {
   "cell_type": "markdown",
   "metadata": {},
   "source": [
    "#### Plots"
   ]
  },
  {
   "cell_type": "code",
   "execution_count": 803,
   "metadata": {},
   "outputs": [],
   "source": [
    "font = {'weight' : 'normal', 'size' : 15}\n",
    "\n",
    "plt.rc('xtick', labelsize=13) \n",
    "plt.rc('ytick', labelsize=13) \n",
    "\n",
    "plt.rc('font', **font)"
   ]
  },
  {
   "cell_type": "code",
   "execution_count": 804,
   "metadata": {},
   "outputs": [],
   "source": [
    "colors = {}\n",
    "\n",
    "colors['Adaptive Bio-CCA'] = 'tab:cyan'\n",
    "colors['Bio-RRR'] = 'tab:purple'\n",
    "\n",
    "linestyle = {}\n",
    "linestyle['Adaptive Bio-CCA'] = '-'\n",
    "linestyle['Bio-RRR'] = '--'"
   ]
  },
  {
   "cell_type": "code",
   "execution_count": 805,
   "metadata": {},
   "outputs": [],
   "source": [
    "algorithms = ['Adaptive Bio-CCA', 'Bio-RRR']"
   ]
  },
  {
   "cell_type": "markdown",
   "metadata": {},
   "source": [
    "### Sample efficiency"
   ]
  },
  {
   "cell_type": "code",
   "execution_count": 806,
   "metadata": {},
   "outputs": [
    {
     "data": {
      "image/png": "[encoded data removed]",
      "text/plain": [
       "<Figure size 360x360 with 1 Axes>"
      ]
     },
     "metadata": {
      "needs_background": "light"
     },
     "output_type": "display_data"
    }
   ],
   "source": [
    "linewidth = 2\n",
    "\n",
    "t = list(range(total_samples))\n",
    "\n",
    "fig = plt.figure(figsize=(5,5))\n",
    "\n",
    "ax = plt.subplot(1, 1, 1)\n",
    "\n",
    "for alg in algorithms:\n",
    "    add_fill_lines(ax, t, alg_subspacex_error[alg], plot_kwargs={'ls': linestyle[alg], 'lw': linewidth, 'label': alg, 'color': colors[alg]}, ci_kwargs={'color': colors[alg]})\n",
    "\n",
    "ax.loglog()\n",
    "\n",
    "plt.title(f\"alpha = {alpha}\")\n",
    "plt.grid()\n",
    "plt.xlabel('Sample #')\n",
    "plt.ylabel('Vx subspace error')\n",
    "\n",
    "plt.show()"
   ]
  },
  {
   "cell_type": "markdown",
   "metadata": {},
   "source": [
    "### Runtime"
   ]
  },
  {
   "cell_type": "code",
   "execution_count": 807,
   "metadata": {},
   "outputs": [
    {
     "data": {
      "image/png": "[encoded data removed]",
      "text/plain": [
       "<Figure size 360x360 with 1 Axes>"
      ]
     },
     "metadata": {
      "needs_background": "light"
     },
     "output_type": "display_data"
    }
   ],
   "source": [
    "linewidth = 2\n",
    "\n",
    "t = list(range(total_samples))\n",
    "\n",
    "fig = plt.figure(figsize=(5,5))\n",
    "\n",
    "ax = plt.subplot(1, 1, 1)\n",
    "\n",
    "for alg in algorithms:\n",
    "    add_fill_lines(ax, np.mean(alg_time[alg],axis=0), alg_subspacex_error[alg], plot_kwargs={'ls': linestyle[alg], 'lw': linewidth, 'label': alg, 'color': colors[alg]}, ci_kwargs={'color': colors[alg]})\n",
    "\n",
    "ax.loglog()\n",
    "\n",
    "plt.title(f\"alpha = {alpha}\")\n",
    "plt.grid()\n",
    "plt.xlabel('Sample #')\n",
    "plt.ylabel('Vx subspace error')\n",
    "\n",
    "plt.show()"
   ]
  },
  {
   "cell_type": "markdown",
   "metadata": {},
   "source": [
    "### Whitening error"
   ]
  },
  {
   "cell_type": "code",
   "execution_count": 808,
   "metadata": {},
   "outputs": [
    {
     "data": {
      "image/png": "[encoded data removed]",
      "text/plain": [
       "<Figure size 360x360 with 1 Axes>"
      ]
     },
     "metadata": {
      "needs_background": "light"
     },
     "output_type": "display_data"
    }
   ],
   "source": [
    "linewidth = 2\n",
    "\n",
    "t = list(range(total_samples))\n",
    "\n",
    "fig = plt.figure(figsize=(5,5))\n",
    "\n",
    "ax = plt.subplot(1, 1, 1)\n",
    "\n",
    "add_fill_lines(ax, t, alg_whitening_error['Adaptive Bio-CCA'], plot_kwargs={'ls': '-', 'lw': linewidth, 'label': 'Adaptive Bio-CCA', 'color': colors['Adaptive Bio-CCA']}, ci_kwargs={'color': colors['Adaptive Bio-CCA']})\n",
    "\n",
    "ax.loglog()\n",
    "\n",
    "plt.title(f\"alpha = {alpha}\")\n",
    "plt.grid()\n",
    "plt.xlabel('Sample #')\n",
    "plt.ylabel('Whitening error')\n",
    "\n",
    "plt.show()"
   ]
  },
  {
   "cell_type": "markdown",
   "metadata": {},
   "source": [
    "### Rank"
   ]
  },
  {
   "cell_type": "code",
   "execution_count": 798,
   "metadata": {},
   "outputs": [
    {
     "data": {
      "image/png": "[encoded data removed]",
      "text/plain": [
       "<Figure size 360x360 with 1 Axes>"
      ]
     },
     "metadata": {
      "needs_background": "light"
     },
     "output_type": "display_data"
    }
   ],
   "source": [
    "linewidth = 2\n",
    "\n",
    "t = list(range(total_samples))\n",
    "\n",
    "fig = plt.figure(figsize=(5,5))\n",
    "\n",
    "ax = plt.subplot(1, 1, 1)\n",
    "\n",
    "add_fill_lines(ax, t, alg_rank['Adaptive Bio-CCA'], plot_kwargs={'ls': '-', 'lw': linewidth, 'label': 'Adaptive Bio-CCA', 'color': colors['Adaptive Bio-CCA']}, ci_kwargs={'color': colors['Adaptive Bio-CCA']})\n",
    "\n",
    "ax.plot()\n",
    "\n",
    "plt.title(f\"alpha = {alpha}\")\n",
    "plt.grid()\n",
    "plt.xlabel('Sample #')\n",
    "plt.ylabel('Rank')\n",
    "\n",
    "plt.show()"
   ]
  },
  {
   "cell_type": "code",
   "execution_count": null,
   "metadata": {},
   "outputs": [],
   "source": []
  }
 ],
 "metadata": {
  "kernelspec": {
   "display_name": "Python 3",
   "language": "python",
   "name": "python3"
  },
  "language_info": {
   "codemirror_mode": {
    "name": "ipython",
    "version": 3
   },
   "file_extension": ".py",
   "mimetype": "text/x-python",
   "name": "python",
   "nbconvert_exporter": "python",
   "pygments_lexer": "ipython3",
   "version": "3.7.6"
  }
 },
 "nbformat": 4,
 "nbformat_minor": 4
}
