{
 "cells": [
  {
   "cell_type": "markdown",
   "metadata": {},
   "source": [
    "# Adaptive Bio-CCA demo"
   ]
  },
  {
   "cell_type": "markdown",
   "metadata": {},
   "source": [
    "### Imports"
   ]
  },
  {
   "cell_type": "code",
   "execution_count": 1,
   "metadata": {},
   "outputs": [],
   "source": [
    "import numpy as np\n",
    "import pickle as pkl\n",
    "import matplotlib.pyplot as plt\n",
    "import time\n",
    "\n",
    "from cca_algorithms import bio_cca, gen_oja, bio_rrr, asy_cca, adaptive_bio_cca\n",
    "from util import subspace_error, correlation_matrix, add_fill_lines"
   ]
  },
  {
   "cell_type": "markdown",
   "metadata": {},
   "source": [
    "### Load dataset"
   ]
  },
  {
   "cell_type": "code",
   "execution_count": 2,
   "metadata": {},
   "outputs": [],
   "source": [
    "# dataset = 'synthetic'\n",
    "# dataset = 'mediamill'\n",
    "dataset = 'adaptive'\n",
    "# dataset = 'synthetic_A'\n",
    "# dataset = 'synthetic_B'\n",
    "# dataset = 'synthetic_C'"
   ]
  },
  {
   "cell_type": "code",
   "execution_count": 3,
   "metadata": {},
   "outputs": [],
   "source": [
    "# load dataset\n",
    "\n",
    "X, Y, samples = {}, {}, {}\n",
    "\n",
    "if dataset=='synthetic':\n",
    "    modes = [\"A\"]\n",
    "    X[\"A\"] = np.load('datasets/synthetic/view1.npy')\n",
    "    Y[\"A\"] = np.load('datasets/synthetic/view2.npy')\n",
    "elif dataset=='mediamill':\n",
    "    modes = [\"A\"]\n",
    "    X[\"A\"] = np.load('datasets/mediamill/view1.npy')\n",
    "    Y[\"A\"] = np.load('datasets/mediamill/view2.npy')\n",
    "elif dataset=='adaptive':\n",
    "    modes = [\"A\", \"B\", \"C\"]\n",
    "    X[\"A\"] = np.load('datasets/adaptive/view1a.npy')\n",
    "    Y[\"A\"] = np.load('datasets/adaptive/view2a.npy')\n",
    "    X[\"B\"] = np.load('datasets/adaptive/view1b.npy')\n",
    "    Y[\"B\"] = np.load('datasets/adaptive/view2b.npy')\n",
    "    X[\"C\"] = np.load('datasets/adaptive/view1c.npy')\n",
    "    Y[\"C\"] = np.load('datasets/adaptive/view2c.npy')\n",
    "elif dataset=='synthetic_A':\n",
    "    modes = [\"A\"]\n",
    "    X[\"A\"] = np.load('datasets/adaptive/view1a.npy')\n",
    "    Y[\"A\"] = np.load('datasets/adaptive/view2a.npy')\n",
    "elif dataset=='synthetic_B':\n",
    "    modes = [\"A\"]\n",
    "    X[\"A\"] = np.load('datasets/adaptive/view1b.npy')\n",
    "    Y[\"A\"] = np.load('datasets/adaptive/view2b.npy')\n",
    "elif dataset=='synthetic_C':\n",
    "    modes = [\"A\"]\n",
    "    X[\"A\"] = np.load('datasets/adaptive/view1c.npy')\n",
    "    Y[\"A\"] = np.load('datasets/adaptive/view2c.npy')\n",
    "\n",
    "# dataset dimensions\n",
    "\n",
    "x_dim = X[\"A\"].shape[0]\n",
    "y_dim = Y[\"A\"].shape[0]\n",
    "\n",
    "for mode in modes:\n",
    "    samples[mode] = X[mode].shape[1]"
   ]
  },
  {
   "cell_type": "markdown",
   "metadata": {},
   "source": [
    "### Offline solution"
   ]
  },
  {
   "cell_type": "code",
   "execution_count": 4,
   "metadata": {},
   "outputs": [],
   "source": [
    "Cxx, Cyy, Cxy, Rxy, u, canonical_correlations, vh = {}, {}, {}, {}, {}, {}, {}\n",
    "\n",
    "for mode in modes:\n",
    "    Cxx[mode] = X[mode]@X[mode].T/samples[mode]\n",
    "    Cyy[mode] = Y[mode]@Y[mode].T/samples[mode]\n",
    "    Cxy[mode] = X[mode]@Y[mode].T/samples[mode]\n",
    "    Rxy[mode] = correlation_matrix(Cxx[mode],Cyy[mode],Cxy[mode])\n",
    "    u[mode], canonical_correlations[mode], vh[mode] = np.linalg.svd(Rxy[mode])"
   ]
  },
  {
   "cell_type": "markdown",
   "metadata": {},
   "source": [
    "### Plot canonical correlations"
   ]
  },
  {
   "cell_type": "code",
   "execution_count": 5,
   "metadata": {},
   "outputs": [
    {
     "data": {
      "image/png": "[encoded data removed]",
      "text/plain": [
       "<Figure size 1080x360 with 3 Axes>"
      ]
     },
     "metadata": {
      "needs_background": "light"
     },
     "output_type": "display_data"
    }
   ],
   "source": [
    "fig = plt.figure(figsize=(5*len(modes),5))\n",
    "\n",
    "i = 1\n",
    "\n",
    "for mode in modes:\n",
    "\n",
    "    ax = plt.subplot(1, len(modes), i)\n",
    "\n",
    "    ax.plot(canonical_correlations[mode], 'o', color='black')\n",
    "    plt.xlim(-.5,9.5)\n",
    "    plt.ylim(0,1)\n",
    "    plt.title(f'Canonical correlations ({mode})')\n",
    "    plt.xlabel('i')\n",
    "    plt.ylabel('rho(i)')\n",
    "    plt.grid()\n",
    "    \n",
    "    i += 1\n",
    "\n",
    "plt.show()"
   ]
  },
  {
   "cell_type": "code",
   "execution_count": 6,
   "metadata": {},
   "outputs": [],
   "source": [
    "z_dim = 10; alpha = 1.5"
   ]
  },
  {
   "cell_type": "code",
   "execution_count": 7,
   "metadata": {},
   "outputs": [],
   "source": [
    "r = {}\n",
    "\n",
    "for mode in modes:\n",
    "    r[mode] = min(sum(1 for i in canonical_correlations[mode] if 1+i>alpha),z_dim)"
   ]
  },
  {
   "cell_type": "code",
   "execution_count": 8,
   "metadata": {},
   "outputs": [],
   "source": [
    "# Optimal subspace projections\n",
    "\n",
    "Ux, Uy, Px_opt, Py_opt = {}, {}, {}, {}\n",
    "\n",
    "for mode in modes:\n",
    "    Ux[mode] = u[mode][:,:r[mode]]\n",
    "    Uy[mode] = vh[mode].T[:,:r[mode]]\n",
    "\n",
    "    Px_opt[mode] = Ux[mode]@Ux[mode].T\n",
    "    Py_opt[mode] = Uy[mode]@Uy[mode].T"
   ]
  },
  {
   "cell_type": "markdown",
   "metadata": {},
   "source": [
    "### Offline algorithm"
   ]
  },
  {
   "cell_type": "code",
   "execution_count": 9,
   "metadata": {},
   "outputs": [],
   "source": [
    "# Offline algorithm parameters\n",
    "\n",
    "trials = 1; eta = 1e-2; tau = .1\n",
    "\n",
    "iters = 1000; total_iters = 0\n",
    "\n",
    "for mode in modes:\n",
    "    total_iters += iters"
   ]
  },
  {
   "cell_type": "code",
   "execution_count": 10,
   "metadata": {},
   "outputs": [
    {
     "name": "stdout",
     "output_type": "stream",
     "text": [
      "Trial 1 out of 1:\n",
      "Running offline algorithms...\n",
      "Mode A:\n",
      "Elapsed time: 0.09563803672790527 seconds\n",
      "Computing errors...\n",
      "Mode B:\n",
      "Elapsed time: 0.26137304306030273 seconds\n",
      "Computing errors...\n",
      "Mode C:\n",
      "Elapsed time: 0.4299941062927246 seconds\n",
      "Computing errors...\n",
      "Trials complete\n"
     ]
    }
   ],
   "source": [
    "start_time = time.time()\n",
    "\n",
    "alg_subspacex_error = {}\n",
    "alg_subspacex_error['Adaptive Bio-CCA'] = np.zeros((trials,total_iters))\n",
    "\n",
    "for i_trial in range(trials):\n",
    "    \n",
    "    adaptive_Vx = np.zeros((total_iters,x_dim,z_dim))\n",
    "    adaptive_Vy = np.zeros((total_iters,y_dim,z_dim))\n",
    "    \n",
    "    print(f'Trial {i_trial+1} out of {trials}:')\n",
    "                    \n",
    "    print('Running offline algorithms...')\n",
    "    \n",
    "    Wx = np.random.randn(z_dim,x_dim)/np.sqrt(x_dim)\n",
    "    Wy = np.random.randn(z_dim,y_dim)/np.sqrt(y_dim)\n",
    "    P = np.eye(z_dim)\n",
    "    \n",
    "    prev_iters = 0\n",
    "    \n",
    "    for mode in modes:\n",
    "        \n",
    "        print(f'Mode {mode}:')\n",
    "        \n",
    "        # Offline updates\n",
    "\n",
    "        for i_iter in range(iters):\n",
    "            \n",
    "            PP_inv = np.linalg.inv(P@P.T+alpha*np.eye(z_dim))\n",
    "            Wx += 2*eta*(PP_inv@(Wx@Cxx[mode]+Wy@Cxy[mode].T)-Wx@Cxx[mode])\n",
    "            Wy += 2*eta*(PP_inv@(Wx@Cxy[mode]+Wy@Cyy[mode].T)-Wy@Cyy[mode])\n",
    "            P += (eta/tau)*(PP_inv@(Wx@Cxx[mode]@Wx.T+Wx@Cxy[mode]@Wy.T+Wy@Cxy[mode].T@Wx.T+Wy@Cyy[mode]@Wy.T)@PP_inv@P-P)\n",
    "\n",
    "            adaptive_Vx[i_iter] = Wx.T@PP_inv \n",
    "            adaptive_Vy[i_iter] = Wy.T@PP_inv\n",
    "\n",
    "        print(f'Elapsed time: {time.time()-start_time} seconds')\n",
    "                \n",
    "        # Compute error\n",
    "\n",
    "        print('Computing errors...')\n",
    "\n",
    "        for i_iter in range(iters):\n",
    "            ux, sx, vxh = np.linalg.svd(adaptive_Vx[i_iter])\n",
    "            alg_subspacex_error['Adaptive Bio-CCA'][i_trial,prev_iters+i_iter] = subspace_error(ux[:,:r[mode]], Px_opt[mode])\n",
    "            \n",
    "        prev_iters += iters\n",
    "\n",
    "print('Trials complete')"
   ]
  },
  {
   "cell_type": "markdown",
   "metadata": {},
   "source": [
    "#### Plots"
   ]
  },
  {
   "cell_type": "code",
   "execution_count": 11,
   "metadata": {},
   "outputs": [],
   "source": [
    "font = {'weight' : 'normal', 'size' : 15}\n",
    "\n",
    "plt.rc('xtick', labelsize=13) \n",
    "plt.rc('ytick', labelsize=13) \n",
    "\n",
    "plt.rc('font', **font)"
   ]
  },
  {
   "cell_type": "code",
   "execution_count": 12,
   "metadata": {},
   "outputs": [],
   "source": [
    "colors = {}\n",
    "\n",
    "colors['Adaptive Bio-CCA'] = 'tab:blue'"
   ]
  },
  {
   "cell_type": "code",
   "execution_count": 13,
   "metadata": {},
   "outputs": [],
   "source": [
    "algorithms = ['Adaptive Bio-CCA']"
   ]
  },
  {
   "cell_type": "code",
   "execution_count": 14,
   "metadata": {},
   "outputs": [
    {
     "data": {
      "image/png": "[encoded data removed]",
      "text/plain": [
       "<Figure size 360x360 with 1 Axes>"
      ]
     },
     "metadata": {
      "needs_background": "light"
     },
     "output_type": "display_data"
    }
   ],
   "source": [
    "linewidth = 2\n",
    "\n",
    "t = list(range(total_iters))\n",
    "\n",
    "fig = plt.figure(figsize=(5,5))\n",
    "\n",
    "ax = plt.subplot(1, 1, 1)\n",
    "\n",
    "for alg in algorithms:\n",
    "    add_fill_lines(ax, t, alg_subspacex_error[alg], plot_kwargs={'ls': '-', 'lw': linewidth, 'label': alg, 'color': colors[alg]}, ci_kwargs={'color': colors[alg]})\n",
    "\n",
    "ax.plot()\n",
    "\n",
    "plt.title(f\"alpha = {alpha}\")\n",
    "plt.grid()\n",
    "plt.xlabel('Sample #')\n",
    "plt.ylabel('Vx subspace error')\n",
    "\n",
    "plt.show()"
   ]
  },
  {
   "cell_type": "markdown",
   "metadata": {},
   "source": [
    "### Online algorithm"
   ]
  },
  {
   "cell_type": "code",
   "execution_count": 15,
   "metadata": {},
   "outputs": [],
   "source": [
    "# Online algorithm parameters\n",
    "\n",
    "trials = 5; epochs = 1; eta = 1e-4; tau = .1\n",
    "\n",
    "total_samples = 0\n",
    "\n",
    "for mode in modes:\n",
    "    total_samples += samples[mode]*epochs"
   ]
  },
  {
   "cell_type": "code",
   "execution_count": 16,
   "metadata": {},
   "outputs": [
    {
     "name": "stdout",
     "output_type": "stream",
     "text": [
      "Trial 1 out of 5:\n",
      "Running offline algorithms...\n",
      "Mode A:\n",
      "Epoch 1 out of 1:\n",
      "Elapsed time: 15.713505029678345 seconds\n",
      "Mode B:\n",
      "Epoch 1 out of 1:\n",
      "Elapsed time: 32.04683065414429 seconds\n",
      "Mode C:\n",
      "Epoch 1 out of 1:\n",
      "Elapsed time: 48.013569593429565 seconds\n",
      "Trial 2 out of 5:\n",
      "Running offline algorithms...\n",
      "Mode A:\n",
      "Epoch 1 out of 1:\n",
      "Elapsed time: 64.2045407295227 seconds\n",
      "Mode B:\n",
      "Epoch 1 out of 1:\n",
      "Elapsed time: 80.20696187019348 seconds\n",
      "Mode C:\n",
      "Epoch 1 out of 1:\n",
      "Elapsed time: 96.46695876121521 seconds\n",
      "Trial 3 out of 5:\n",
      "Running offline algorithms...\n",
      "Mode A:\n",
      "Epoch 1 out of 1:\n",
      "Elapsed time: 112.4623806476593 seconds\n",
      "Mode B:\n",
      "Epoch 1 out of 1:\n",
      "Elapsed time: 129.79061770439148 seconds\n",
      "Mode C:\n",
      "Epoch 1 out of 1:\n",
      "Elapsed time: 146.16799688339233 seconds\n",
      "Trial 4 out of 5:\n",
      "Running offline algorithms...\n",
      "Mode A:\n",
      "Epoch 1 out of 1:\n",
      "Elapsed time: 162.40976786613464 seconds\n",
      "Mode B:\n",
      "Epoch 1 out of 1:\n",
      "Elapsed time: 179.55296993255615 seconds\n",
      "Mode C:\n",
      "Epoch 1 out of 1:\n",
      "Elapsed time: 196.06049585342407 seconds\n",
      "Trial 5 out of 5:\n",
      "Running offline algorithms...\n",
      "Mode A:\n",
      "Epoch 1 out of 1:\n",
      "Elapsed time: 211.98461174964905 seconds\n",
      "Mode B:\n",
      "Epoch 1 out of 1:\n",
      "Elapsed time: 228.25114679336548 seconds\n",
      "Mode C:\n",
      "Epoch 1 out of 1:\n",
      "Elapsed time: 244.27492666244507 seconds\n",
      "Trials complete\n"
     ]
    }
   ],
   "source": [
    "start_time = time.time()\n",
    "\n",
    "alg_subspacex_error = {}\n",
    "alg_subspacex_error['Adaptive Bio-CCA'] = np.zeros((trials,total_samples))\n",
    "\n",
    "for i_trial in range(trials):\n",
    "    \n",
    "    adaptive_Vx = np.zeros((total_samples,x_dim,z_dim))\n",
    "    adaptive_Vy = np.zeros((total_samples,y_dim,z_dim))\n",
    "    \n",
    "    print(f'Trial {i_trial+1} out of {trials}:')\n",
    "                    \n",
    "    print('Running offline algorithms...')\n",
    "    \n",
    "    Wx = np.random.randn(z_dim,x_dim)/np.sqrt(x_dim)\n",
    "    Wy = np.random.randn(z_dim,y_dim)/np.sqrt(y_dim)\n",
    "    P = np.eye(z_dim)\n",
    "    \n",
    "    prev_iters = 0\n",
    "    \n",
    "    for mode in modes:\n",
    "        \n",
    "        print(f'Mode {mode}:')\n",
    "        \n",
    "        for i_epoch in range(epochs):\n",
    "            \n",
    "            print(f'Epoch {i_epoch+1} out of {epochs}:')\n",
    "        \n",
    "            # Online updates\n",
    "\n",
    "            idx = np.random.permutation(samples[mode])\n",
    "\n",
    "            # Online updates\n",
    "\n",
    "            for i_sample in range(samples[mode]):\n",
    "\n",
    "                i_iter = prev_iters + i_sample\n",
    "\n",
    "                x = X[mode][:,idx[i_sample]]\n",
    "                y = Y[mode][:,idx[i_sample]]\n",
    "\n",
    "                a = Wx@x\n",
    "                b = Wy@y\n",
    "\n",
    "                # neural dynamics\n",
    "\n",
    "                PP_inv = np.linalg.inv(P@P.T+alpha*np.eye(z_dim))\n",
    "\n",
    "                z = PP_inv@(a+b)\n",
    "                n = P.T@z\n",
    "\n",
    "                # synaptic updates\n",
    "\n",
    "                Wx += 2*eta*np.outer(z-a,x)\n",
    "                Wy += 2*eta*np.outer(z-b,y)\n",
    "                P += (eta/tau)*(np.outer(z,n)-P)\n",
    "\n",
    "                adaptive_Vx[i_iter] = Wx.T@PP_inv \n",
    "                adaptive_Vy[i_iter] = Wy.T@PP_inv\n",
    "\n",
    "                ux, sx, vxh = np.linalg.svd(adaptive_Vx[i_iter])\n",
    "                alg_subspacex_error['Adaptive Bio-CCA'][i_trial,i_iter] = subspace_error(ux[:,:r[mode]], Px_opt[mode])\n",
    "\n",
    "            print(f'Elapsed time: {time.time()-start_time} seconds')\n",
    "                \n",
    "        prev_iters+=samples[mode]*epochs\n",
    "\n",
    "print('Trials complete')"
   ]
  },
  {
   "cell_type": "markdown",
   "metadata": {},
   "source": [
    "#### Plots"
   ]
  },
  {
   "cell_type": "code",
   "execution_count": 17,
   "metadata": {},
   "outputs": [],
   "source": [
    "font = {'weight' : 'normal', 'size' : 15}\n",
    "\n",
    "plt.rc('xtick', labelsize=13) \n",
    "plt.rc('ytick', labelsize=13) \n",
    "\n",
    "plt.rc('font', **font)"
   ]
  },
  {
   "cell_type": "code",
   "execution_count": 18,
   "metadata": {},
   "outputs": [],
   "source": [
    "colors = {}\n",
    "\n",
    "colors['Adaptive Bio-CCA'] = 'tab:blue'"
   ]
  },
  {
   "cell_type": "code",
   "execution_count": 19,
   "metadata": {},
   "outputs": [],
   "source": [
    "algorithms = ['Adaptive Bio-CCA']"
   ]
  },
  {
   "cell_type": "code",
   "execution_count": 20,
   "metadata": {},
   "outputs": [
    {
     "data": {
      "image/png": "[encoded data removed]",
      "text/plain": [
       "<Figure size 360x360 with 1 Axes>"
      ]
     },
     "metadata": {
      "needs_background": "light"
     },
     "output_type": "display_data"
    }
   ],
   "source": [
    "linewidth = 2\n",
    "\n",
    "t = list(range(total_samples))\n",
    "\n",
    "fig = plt.figure(figsize=(5,5))\n",
    "\n",
    "ax = plt.subplot(1, 1, 1)\n",
    "\n",
    "for alg in algorithms:\n",
    "    add_fill_lines(ax, t, alg_subspacex_error[alg], plot_kwargs={'ls': '-', 'lw': linewidth, 'label': alg, 'color': colors[alg]}, ci_kwargs={'color': colors[alg]})\n",
    "\n",
    "ax.semilogy()\n",
    "\n",
    "plt.title(f\"alpha = {alpha}\")\n",
    "plt.grid()\n",
    "plt.xlabel('Sample #')\n",
    "plt.ylabel('Vx subspace error')\n",
    "\n",
    "plt.show()"
   ]
  },
  {
   "cell_type": "code",
   "execution_count": null,
   "metadata": {},
   "outputs": [],
   "source": []
  }
 ],
 "metadata": {
  "kernelspec": {
   "display_name": "Python 3",
   "language": "python",
   "name": "python3"
  },
  "language_info": {
   "codemirror_mode": {
    "name": "ipython",
    "version": 3
   },
   "file_extension": ".py",
   "mimetype": "text/x-python",
   "name": "python",
   "nbconvert_exporter": "python",
   "pygments_lexer": "ipython3",
   "version": "3.8.3"
  }
 },
 "nbformat": 4,
 "nbformat_minor": 4
}
