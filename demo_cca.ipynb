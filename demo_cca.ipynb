{
 "cells": [
  {
   "cell_type": "markdown",
   "metadata": {},
   "source": [
    "# Comparison of online CCA algorithms"
   ]
  },
  {
   "cell_type": "markdown",
   "metadata": {},
   "source": [
    "### Imports"
   ]
  },
  {
   "cell_type": "code",
   "execution_count": 1,
   "metadata": {},
   "outputs": [],
   "source": [
    "import numpy as np\n",
    "import matplotlib.pyplot as plt\n",
    "\n",
    "from cca_algorithms import bio_cca, gen_oja, msg_cca, bio_rrr\n",
    "from util import correlation_matrix, error, constraint_error, add_fill_lines"
   ]
  },
  {
   "cell_type": "markdown",
   "metadata": {},
   "source": [
    "### Dataset"
   ]
  },
  {
   "cell_type": "code",
   "execution_count": 2,
   "metadata": {},
   "outputs": [],
   "source": [
    "dataset = 'synthetic'\n",
    "# dataset = 'mediamill'"
   ]
  },
  {
   "cell_type": "markdown",
   "metadata": {},
   "source": [
    "### Load synthetic dataset"
   ]
  },
  {
   "cell_type": "code",
   "execution_count": 3,
   "metadata": {},
   "outputs": [],
   "source": [
    "X = np.load(f'datasets/{dataset}/view1.npy')\n",
    "Y = np.load(f'datasets/{dataset}/view2.npy')"
   ]
  },
  {
   "cell_type": "markdown",
   "metadata": {},
   "source": [
    "### Dataset dimensions"
   ]
  },
  {
   "cell_type": "code",
   "execution_count": 4,
   "metadata": {},
   "outputs": [],
   "source": [
    "x_dim = X.shape[0]\n",
    "y_dim = Y.shape[0]\n",
    "samples = X.shape[1]"
   ]
  },
  {
   "cell_type": "markdown",
   "metadata": {},
   "source": [
    "### Offline solution"
   ]
  },
  {
   "cell_type": "code",
   "execution_count": 5,
   "metadata": {},
   "outputs": [],
   "source": [
    "# Covariance matrices\n",
    "\n",
    "Cxx = X@X.T/samples\n",
    "Cyy = Y@Y.T/samples\n",
    "Cxy = X@Y.T/samples"
   ]
  },
  {
   "cell_type": "code",
   "execution_count": 6,
   "metadata": {},
   "outputs": [],
   "source": [
    "# Correlation matrix\n",
    "\n",
    "Rxy = correlation_matrix(Cxx, Cyy, Cxy)"
   ]
  },
  {
   "cell_type": "code",
   "execution_count": 7,
   "metadata": {},
   "outputs": [],
   "source": [
    "u, s, vh = np.linalg.svd(Rxy)"
   ]
  },
  {
   "cell_type": "code",
   "execution_count": 8,
   "metadata": {},
   "outputs": [
    {
     "data": {
      "image/png": "[encoded data removed]",
      "text/plain": [
       "<Figure size 576x576 with 1 Axes>"
      ]
     },
     "metadata": {
      "needs_background": "light"
     },
     "output_type": "display_data"
    }
   ],
   "source": [
    "# Plot canonical correlations\n",
    "\n",
    "fig = plt.figure(figsize=(8,8))\n",
    "\n",
    "plt.plot(s, 'o')\n",
    "plt.show()"
   ]
  },
  {
   "cell_type": "markdown",
   "metadata": {},
   "source": [
    "### Online algorithms"
   ]
  },
  {
   "cell_type": "code",
   "execution_count": 9,
   "metadata": {},
   "outputs": [],
   "source": [
    "# Parameters\n",
    "\n",
    "trials = 1; epochs = 1; z_dim = 1; iters = epochs*samples; training_samples = 200"
   ]
  },
  {
   "cell_type": "code",
   "execution_count": 10,
   "metadata": {},
   "outputs": [],
   "source": [
    "# Maximum of the objective\n",
    "\n",
    "max_obj = sum(s[:z_dim])/2"
   ]
  },
  {
   "cell_type": "code",
   "execution_count": 11,
   "metadata": {},
   "outputs": [],
   "source": [
    "if z_dim==1:\n",
    "    genoja_err = np.zeros((trials,iters))\n",
    "\n",
    "msgcca_err = np.zeros((trials,iters))\n",
    "biocca_err = np.zeros((trials,iters))\n",
    "biocca_constraint_err = np.zeros((trials,iters))\n",
    "biorrr_err = np.zeros((trials,iters))"
   ]
  },
  {
   "cell_type": "code",
   "execution_count": 14,
   "metadata": {},
   "outputs": [
    {
     "name": "stdout",
     "output_type": "stream",
     "text": [
      "Trial 1 out of 1:\n",
      "Running online algorithms...\n",
      "Epoch 1 out of 1:\n",
      "Computing errors...\n"
     ]
    }
   ],
   "source": [
    "for i_trial in range(trials):\n",
    "    \n",
    "    print(f'Trial {i_trial+1} out of {trials}:')\n",
    "                \n",
    "    # Initialize Bio-CCA\n",
    "\n",
    "    biocca = bio_cca(z_dim,x_dim,y_dim,dataset)    \n",
    "    biocca_Vx = np.zeros((iters,x_dim,z_dim))\n",
    "    biocca_Vy = np.zeros((iters,y_dim,z_dim))\n",
    "    \n",
    "    # Initialize MSG-CCA\n",
    "    \n",
    "    msgcca = msg_cca(z_dim,x_dim,y_dim,dataset)\n",
    "    msgcca_M = np.zeros((iters,x_dim,y_dim))\n",
    "\n",
    "    # Initialize Gen-Oja\n",
    "    \n",
    "    if z_dim==1:\n",
    "        genoja = gen_oja(x_dim,y_dim,dataset)\n",
    "        genoja_vx = np.zeros((iters,x_dim,1))\n",
    "        genoja_vy = np.zeros((iters,y_dim,1))\n",
    "\n",
    "    # Initialize Bio-RRR\n",
    "    \n",
    "    biorrr = bio_rrr(z_dim,x_dim,y_dim,dataset)\n",
    "    biorrr_Vx = np.zeros((iters,x_dim,z_dim))\n",
    "    biorrr_Vy = np.zeros((iters,y_dim,z_dim))\n",
    "        \n",
    "    # Run online algorithms\n",
    "    \n",
    "    print('Running online algorithms...')\n",
    "    \n",
    "    for i_epoch in range(epochs):\n",
    "        \n",
    "        print(f'Epoch {i_epoch+1} out of {epochs}:')\n",
    "        \n",
    "        # Random permutation of the inputs\n",
    "\n",
    "        idx = np.random.permutation(samples)\n",
    "    \n",
    "        # MSG-CCA covariance estimation on training samples\n",
    "        \n",
    "        if i_epoch==0:\n",
    "            msgcca.cov_estimation(X[:,idx[:]],Y[:,idx[:]])\n",
    "            \n",
    "        # Online updates\n",
    "\n",
    "        for i_sample in range(samples):\n",
    "            \n",
    "            i_iter = i_epoch*samples + i_sample\n",
    "\n",
    "            x = X[:,idx[i_sample]]\n",
    "            y = Y[:,idx[i_sample]]\n",
    "\n",
    "            # online updates\n",
    "            \n",
    "            if z_dim==1:\n",
    "                genoja_vx[i_iter], genoja_vy[i_iter] = genoja.fit_next(x,y)\n",
    "\n",
    "            msgcca_M[i_iter] = msgcca.fit_next(x,y)\n",
    "            biocca_Vx[i_iter], biocca_Vy[i_iter] = biocca.fit_next(x,y)\n",
    "#             biorrr_Vx[i_iter], biorrr_Vy[i_iter] = biorrr.fit_next(x,y)                \n",
    "        \n",
    "    # Compute error\n",
    "                \n",
    "    print('Computing errors...')\n",
    "\n",
    "    for i_iter in range(iters):\n",
    "        if z_dim==1:\n",
    "            genoja_err[i_trial,i_iter] = error(genoja_vx[i_iter], genoja_vy[i_iter], Cxx, Cyy, Cxy, max_obj)\n",
    "            \n",
    "        msgcca_err[i_trial,i_iter] = msgcca.error(msgcca_M[i_iter], Rxy, max_obj)\n",
    "        biocca_err[i_trial,i_iter] = error(biocca_Vx[i_iter], biocca_Vy[i_iter], Cxx, Cyy, Cxy, max_obj)\n",
    "        biocca_constraint_err[i_trial,i_iter] = constraint_error(biocca_Vx[i_iter], biocca_Vy[i_iter], Cxx, Cyy)\n",
    "#         biorrr_err[i_trial,i_iter] = error(biorrr_Vx[i_iter], biorrr_Vy[i_iter], Cxx, Cyy, Cxy, max_obj)"
   ]
  },
  {
   "cell_type": "markdown",
   "metadata": {},
   "source": [
    "### Comparison plots"
   ]
  },
  {
   "cell_type": "code",
   "execution_count": 15,
   "metadata": {},
   "outputs": [
    {
     "data": {
      "image/png": "[encoded data removed]",
      "text/plain": [
       "<Figure size 360x360 with 1 Axes>"
      ]
     },
     "metadata": {
      "needs_background": "light"
     },
     "output_type": "display_data"
    }
   ],
   "source": [
    "linewidth = 3\n",
    "\n",
    "t = list(range(iters))\n",
    "\n",
    "fig = plt.figure(figsize=(5,5))\n",
    "\n",
    "ax = plt.subplot(1, 1, 1)\n",
    "\n",
    "add_fill_lines(ax, t, biocca_err, plot_kwargs={'ls': '-', 'lw': linewidth, 'label': 'Bio-CCA'})\n",
    "add_fill_lines(ax, t, msgcca_err, plot_kwargs={'ls': '-', 'lw': linewidth, 'label': 'MSG-CCA'})\n",
    "# add_fill_lines(ax, t, biorrr_err, plot_kwargs={'ls': '-', 'lw': linewidth, 'label': 'Bio-RRR'})\n",
    "\n",
    "if z_dim==1:\n",
    "    add_fill_lines(ax, t, genoja_err, plot_kwargs={'ls': '-', 'lw': linewidth, 'label': 'Gen-Oja'})\n",
    "\n",
    "ax.loglog()\n",
    "\n",
    "plt.title(f\"k={z_dim}\")\n",
    "plt.grid()\n",
    "plt.legend(loc = 'lower left')\n",
    "plt.xlabel('Sample #')\n",
    "plt.ylabel('Error')\n",
    "\n",
    "plt.show()"
   ]
  },
  {
   "cell_type": "code",
   "execution_count": null,
   "metadata": {},
   "outputs": [],
   "source": []
  }
 ],
 "metadata": {
  "kernelspec": {
   "display_name": "Python 3",
   "language": "python",
   "name": "python3"
  },
  "language_info": {
   "codemirror_mode": {
    "name": "ipython",
    "version": 3
   },
   "file_extension": ".py",
   "mimetype": "text/x-python",
   "name": "python",
   "nbconvert_exporter": "python",
   "pygments_lexer": "ipython3",
   "version": "3.7.6"
  }
 },
 "nbformat": 4,
 "nbformat_minor": 4
}
