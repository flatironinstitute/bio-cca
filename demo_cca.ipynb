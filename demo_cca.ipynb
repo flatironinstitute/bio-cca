{
 "cells": [
  {
   "cell_type": "markdown",
   "metadata": {},
   "source": [
    "# Comparison of online CCA algorithms"
   ]
  },
  {
   "cell_type": "markdown",
   "metadata": {},
   "source": [
    "### Imports"
   ]
  },
  {
   "cell_type": "code",
   "execution_count": 1,
   "metadata": {},
   "outputs": [],
   "source": [
    "import numpy as np\n",
    "import pickle as pkl\n",
    "import matplotlib.pyplot as plt\n",
    "import time\n",
    "\n",
    "# import cca algorithms\n",
    "\n",
    "from biocca import bio_cca\n",
    "from msgcca import msg_cca\n",
    "from genoja import gen_oja\n",
    "from CCAPyramidal import CCAPyramidal # package for the asymmetric CCA network\n",
    "from biorrr import bio_rrr\n",
    "\n",
    "from util import correlation_matrix, obj_error, msg_error, subspace_error, constraint_error, add_fill_lines"
   ]
  },
  {
   "cell_type": "markdown",
   "metadata": {},
   "source": [
    "### Load dataset"
   ]
  },
  {
   "cell_type": "code",
   "execution_count": 2,
   "metadata": {},
   "outputs": [],
   "source": [
    "# select the desired dataset and number of epochs\n",
    "\n",
    "dataset = 'synthetic'; epochs = 1\n",
    "# dataset = 'mediamill'; epochs = 3\n",
    "\n",
    "# load dataset\n",
    "\n",
    "X = np.load(f'datasets/{dataset}/view1.npy')\n",
    "Y = np.load(f'datasets/{dataset}/view2.npy')\n",
    "\n",
    "# dataset dimensions\n",
    "\n",
    "x_dim = X.shape[0]\n",
    "y_dim = Y.shape[0]\n",
    "samples = X.shape[1]"
   ]
  },
  {
   "cell_type": "markdown",
   "metadata": {},
   "source": [
    "### Offline solution"
   ]
  },
  {
   "cell_type": "code",
   "execution_count": 3,
   "metadata": {},
   "outputs": [],
   "source": [
    "# Covariance matrices\n",
    "\n",
    "Cxx = X@X.T/samples\n",
    "Cyy = Y@Y.T/samples\n",
    "Cxy = X@Y.T/samples\n",
    "\n",
    "# Inverse matrices\n",
    "\n",
    "sig_y, Uy = np.linalg.eig(Cyy)\n",
    "\n",
    "Cyy_inv = Uy@np.diag(1./sig_y)@Uy.T\n",
    "\n",
    "# Correlation matrix\n",
    "\n",
    "Rxy = correlation_matrix(Cxx, Cyy, Cxy)\n",
    "\n",
    "# SVD\n",
    "\n",
    "u, canonical_correlations, vh = np.linalg.svd(Rxy)"
   ]
  },
  {
   "cell_type": "markdown",
   "metadata": {},
   "source": [
    "### Online algorithms"
   ]
  },
  {
   "cell_type": "code",
   "execution_count": 4,
   "metadata": {},
   "outputs": [],
   "source": [
    "# Parameters\n",
    "\n",
    "trials = 1; z_dim = 1; iters = epochs*samples; training_samples = 1000"
   ]
  },
  {
   "cell_type": "code",
   "execution_count": 5,
   "metadata": {},
   "outputs": [],
   "source": [
    "# Maximum of the objective\n",
    "\n",
    "max_obj = sum(canonical_correlations[:z_dim])/2"
   ]
  },
  {
   "cell_type": "code",
   "execution_count": 6,
   "metadata": {},
   "outputs": [],
   "source": [
    "# Optimal subspace projections\n",
    "\n",
    "Ux = u[:,:z_dim]\n",
    "Uy = vh.T[:,:z_dim]\n",
    "\n",
    "Px_opt = Ux@np.linalg.inv(Ux.T@Ux)@Ux.T\n",
    "Py_opt = Uy@np.linalg.inv(Uy.T@Uy)@Uy.T"
   ]
  },
  {
   "cell_type": "code",
   "execution_count": 7,
   "metadata": {},
   "outputs": [],
   "source": [
    "# Specify which algorithms to run\n",
    "\n",
    "algorithms = []\n",
    "\n",
    "algorithms.append('Bio-CCA')\n",
    "algorithms.append('MSG-CCA')\n",
    "if z_dim==1: algorithms.append('Gen-Oja')\n",
    "algorithms.append('Asymmetric-CCA')\n",
    "algorithms.append('Bio-RRR')"
   ]
  },
  {
   "cell_type": "code",
   "execution_count": 8,
   "metadata": {},
   "outputs": [],
   "source": [
    "alg_time = {}\n",
    "alg_Vx = {}\n",
    "alg_Vy = {}\n",
    "alg_M = {}\n",
    "\n",
    "for alg in algorithms:\n",
    "    alg_time[alg] = np.zeros((trials,iters))\n",
    "    \n",
    "    if alg!='MSG-CCA':\n",
    "        alg_Vx[alg] = np.zeros((trials,iters,x_dim,z_dim))\n",
    "        alg_Vy[alg] = np.zeros((trials,iters,y_dim,z_dim))\n",
    "    elif alg=='MSG-CCA':\n",
    "        alg_M[alg] = np.zeros((trials,iters,x_dim,y_dim))"
   ]
  },
  {
   "cell_type": "code",
   "execution_count": null,
   "metadata": {},
   "outputs": [
    {
     "name": "stdout",
     "output_type": "stream",
     "text": [
      "Trial 1 out of 1:\n",
      "Running online algorithms...\n",
      "Epoch 1 out of 1:\n"
     ]
    }
   ],
   "source": [
    "start_time = time.time()\n",
    "\n",
    "for i_trial in range(trials):\n",
    "    \n",
    "    print(f'Trial {i_trial+1} out of {trials}:')\n",
    "                \n",
    "    # Initialize algorithms\n",
    "    \n",
    "    if 'Bio-CCA' in algorithms:\n",
    "        biocca = bio_cca(z_dim,x_dim,y_dim,dataset)   \n",
    "    \n",
    "    if 'MSG-CCA' in algorithms:\n",
    "        msgcca = msg_cca(z_dim,x_dim,y_dim)\n",
    "        \n",
    "    if 'Asymmetric-CCA' in algorithms:\n",
    "        if dataset=='synthetic': asycca = CCAPyramidal(X,Y,k=z_dim,eta={\"W\":0.0002,\"V\":0.0002,\"M\":0.0002,\"Lambda\":0.0002,\"Gamma\":0.0002},steps=iters,alpha=5e-6,mode=\"hierarchy\")\n",
    "        elif dataset=='mediamill': asycca = CCAPyramidal(X,Y,k=z_dim,eta={\"W\":0.002,\"V\":0.002,\"M\":0.002,\"Lambda\":0.002,\"Gamma\":0.002},steps=iters,alpha=5e-6,mode=\"hierarchy\")\n",
    "        \n",
    "    if 'Bio-RRR' in algorithms:\n",
    "        biorrr = bio_rrr(z_dim,x_dim,y_dim,dataset)\n",
    "\n",
    "    if 'Gen-Oja' in algorithms:\n",
    "        genoja = gen_oja(x_dim,y_dim,dataset)\n",
    "            \n",
    "    # Run online algorithms\n",
    "    \n",
    "    print('Running online algorithms...')\n",
    "    \n",
    "    for i_epoch in range(epochs):\n",
    "        \n",
    "        print(f'Epoch {i_epoch+1} out of {epochs}:')\n",
    "        \n",
    "        # Random permutation of the inputs\n",
    "\n",
    "        idx = np.random.permutation(samples)\n",
    "    \n",
    "        # MSG-CCA covariance estimation on training samples\n",
    "\n",
    "        if i_epoch==0 and 'MSG-CCA' in algorithms:\n",
    "            checkpoint = time.time()\n",
    "            msgcca.cov_estimation(X[:,idx[:]],Y[:,idx[:]])\n",
    "            alg_time['MSG-CCA'][i_trial,:training_samples-1] = time.time() - checkpoint\n",
    "            \n",
    "        # Online updates\n",
    "\n",
    "        for i_sample in range(samples):\n",
    "            \n",
    "            i_iter = i_epoch*samples + i_sample\n",
    "\n",
    "            x = X[:,idx[i_sample]]\n",
    "            y = Y[:,idx[i_sample]]\n",
    "\n",
    "            # online updates\n",
    "\n",
    "            if 'Bio-CCA' in algorithms:\n",
    "                checkpoint = time.time()\n",
    "                alg_Vx['Bio-CCA'][i_trial,i_iter], alg_Vy['Bio-CCA'][i_trial,i_iter] = biocca.fit_next(x,y)\n",
    "                alg_time['Bio-CCA'][i_trial,i_iter] = alg_time['Bio-CCA'][i_trial,max(i_iter-1,0)] + time.time() - checkpoint\n",
    "            if 'MSG-CCA' in algorithms: \n",
    "                checkpoint = time.time()\n",
    "                alg_M['MSG-CCA'] = msgcca.fit_next(x,y)\n",
    "                alg_time['MSG-CCA'][i_trial,i_iter] = alg_time['MSG-CCA'][i_trial,max(i_iter-1,0)] + time.time() - checkpoint\n",
    "            if 'Asymmetric-CCA' in algorithms: \n",
    "                checkpoint = time.time()\n",
    "                asycca.online_step(idx[i_sample], asycca.decay(i_iter))\n",
    "                alg_Vx['Asymmetric-CCA'][i_trial,i_iter], alg_Vy['Asymmetric-CCA'][i_trial,i_iter] = asycca.W, asycca.V\n",
    "                alg_time['Asymmetric-CCA'][i_trial,i_iter] = alg_time['Asymmetric-CCA'][i_trial,max(i_iter-1,0)] + time.time() - checkpoint\n",
    "            if 'Bio-RRR' in algorithms: \n",
    "                checkpoint = time.time()\n",
    "                alg_Vx['Bio-RRR'][i_trial,i_iter], alg_Vy['Bio-RRR'][i_trial,i_iter] = biorrr.fit_next(x,y)\n",
    "                alg_time['Bio-RRR'][i_trial,i_iter] = alg_time['Bio-RRR'][i_trial,max(i_iter-1,0)] + time.time() - checkpoint\n",
    "            if 'Gen-Oja' in algorithms: \n",
    "                checkpoint = time.time()\n",
    "                alg_Vx['Gen-Oja'][i_trial,i_iter], alg_Vy['Gen-Oja'][i_trial,i_iter] = genoja.fit_next(x,y)\n",
    "                alg_time['Gen-Oja'][i_trial,i_iter] = alg_time['Gen-Oja'][i_trial,max(i_iter-1,0)] + time.time() - checkpoint\n",
    "                \n",
    "        print(f'Elapsed time: {time.time()-start_time} seconds')\n",
    "        \n",
    "print('Trials complete')"
   ]
  },
  {
   "cell_type": "markdown",
   "metadata": {},
   "source": [
    "### Compute errors"
   ]
  },
  {
   "cell_type": "code",
   "execution_count": null,
   "metadata": {},
   "outputs": [],
   "source": [
    "domain = list(sorted(set(map(int, np.round(np.logspace(0, np.log10(iters), num=50, endpoint=False))))))\n",
    "domain_len = len(domain)"
   ]
  },
  {
   "cell_type": "code",
   "execution_count": null,
   "metadata": {},
   "outputs": [],
   "source": [
    "alg_obj_error = {}\n",
    "alg_subspacex_error = {}\n",
    "alg_constraint_error = {}\n",
    "\n",
    "for alg in algorithms:\n",
    "    if alg!='Bio-RRR':\n",
    "        alg_obj_error[alg] = np.zeros((trials,iters))\n",
    "    if alg!='MSG-CCA':\n",
    "        alg_subspacex_error[alg] = np.zeros((trials,iters))\n",
    "    if alg=='Bio-CCA':\n",
    "        alg_constraint_error[alg] = np.zeros((trials,iters))"
   ]
  },
  {
   "cell_type": "code",
   "execution_count": null,
   "metadata": {},
   "outputs": [],
   "source": [
    "for i_trial in range(trials):\n",
    "    for i_iter in domain:\n",
    "        if 'Bio-CCA' in algorithms:\n",
    "            Vx, Vy = alg_Vx['Bio-CCA'][i_trial,i_iter], alg_Vy['Bio-CCA'][i_trial,i_iter]\n",
    "            alg_obj_error['Bio-CCA'][i_trial,i_iter] = obj_error(Vx, Vy, Cxx, Cyy, Cxy, max_obj)\n",
    "            alg_subspacex_error['Bio-CCA'][i_trial,i_iter] = subspace_error(Vx, Px_opt)\n",
    "            alg_constraint_error['Bio-CCA'][i_trial,i_iter] = constraint_error(Vx, Vy, Cxx, Cyy)\n",
    "        if 'MSG-CCA' in algorithms: \n",
    "            M = alg_M['MSG-CCA'][i_trial,i_iter]\n",
    "            alg_obj_error['MSG-CCA'][i_trial,i_iter] = msg_error(M, Rxy, max_obj)\n",
    "        if 'Asymmetric-CCA' in algorithms: \n",
    "            Vx, Vy = alg_Vx['Asymmetric-CCA'][i_trial,i_iter], alg_Vy['Asymmetric-CCA'][i_trial,i_iter]\n",
    "            alg_obj_error['Asymmetric-CCA'][i_trial,i_iter] = obj_error(Vx, Vy, Cxx, Cyy, Cxy, max_obj)\n",
    "            alg_subspacex_error['Asymmetric-CCA'][i_trial,i_iter] = subspace_error(Vx, Px_opt)\n",
    "        if 'Bio-RRR' in algorithms:\n",
    "            Vx, Vy = alg_Vx['Bio-RRR'][i_trial,i_iter], alg_Vy['Bio-RRR'][i_trial,i_iter]\n",
    "            alg_subspacex_error['Bio-RRR'][i_trial,i_iter] = subspace_error(Vx, Px_opt)\n",
    "        if 'Gen-Oja' in algorithms: \n",
    "            Vx, Vy = alg_Vx['Gen-Oja'][i_trial,i_iter], alg_Vy['Gen-Oja'][i_trial,i_iter]\n",
    "            alg_obj_error['Gen-Oja'][i_trial,i_iter] = obj_error(Vx, Vy, Cxx, Cyy, Cxy, max_obj)\n",
    "            alg_subspacex_error['Gen-Oja'][i_trial,i_iter] = subspace_error(Vx, Px_opt)"
   ]
  },
  {
   "cell_type": "markdown",
   "metadata": {},
   "source": [
    "### Comparison plots"
   ]
  },
  {
   "cell_type": "code",
   "execution_count": null,
   "metadata": {},
   "outputs": [],
   "source": [
    "font = {'weight' : 'normal', 'size' : 15}\n",
    "\n",
    "plt.rc('xtick', labelsize=13) \n",
    "plt.rc('ytick', labelsize=13) \n",
    "\n",
    "plt.rc('font', **font)"
   ]
  },
  {
   "cell_type": "code",
   "execution_count": null,
   "metadata": {},
   "outputs": [],
   "source": [
    "colors = {}\n",
    "\n",
    "colors['Bio-CCA'] = 'tab:blue'\n",
    "colors['MSG-CCA'] = 'tab:orange'\n",
    "colors['Gen-Oja'] = 'tab:green'\n",
    "colors['Asymmetric-CCA'] = 'tab:red'\n",
    "colors['Bio-RRR'] = 'tab:purple'"
   ]
  },
  {
   "cell_type": "code",
   "execution_count": null,
   "metadata": {},
   "outputs": [],
   "source": [
    "styles = {}\n",
    "\n",
    "styles['Bio-CCA'] = 'solid'\n",
    "styles['MSG-CCA'] = 'dashed'\n",
    "styles['Gen-Oja'] = 'dotted'\n",
    "styles['Asymmetric-CCA'] = 'dashdot'\n",
    "styles['Bio-RRR'] = 'dashed'"
   ]
  },
  {
   "cell_type": "code",
   "execution_count": null,
   "metadata": {},
   "outputs": [],
   "source": [
    "labels = {}\n",
    "\n",
    "labels['Bio-CCA'] = 'Bio-CCA'\n",
    "labels['MSG-CCA'] = 'MSG-CCA'\n",
    "labels['Gen-Oja'] = 'Gen-Oja'\n",
    "labels['Asymmetric-CCA'] = 'Asym-NN'\n",
    "labels['Bio-RRR'] = 'Bio-RRR'"
   ]
  },
  {
   "cell_type": "code",
   "execution_count": null,
   "metadata": {},
   "outputs": [],
   "source": [
    "linewidth = 2\n",
    "\n",
    "fig = plt.figure(figsize=(5,20))\n",
    "\n",
    "ax = plt.subplot(4, 1, 1)\n",
    "\n",
    "for alg in algorithms:\n",
    "    if alg!='Bio-RRR':\n",
    "        add_fill_lines(ax, domain, alg_obj_error[alg][:,domain], plot_kwargs={'ls': '-', 'lw': linewidth, 'label': alg, 'color': colors[alg]}, ci_kwargs={'color': colors[alg]})\n",
    "\n",
    "ax.loglog()\n",
    "\n",
    "plt.title(f\"k = {z_dim}\")\n",
    "plt.grid()\n",
    "plt.legend(loc = 'lower left')\n",
    "plt.xlim((1e2,iters))\n",
    "plt.xlabel('Sample #')\n",
    "plt.ylabel('Normalized objective error')\n",
    "\n",
    "ax = plt.subplot(4, 1, 2)\n",
    "\n",
    "for alg in algorithms:\n",
    "    if alg!='Bio-RRR':\n",
    "        add_fill_lines(ax, np.mean(alg_time[alg][:,domain],axis=0), alg_obj_error[alg][:,domain], plot_kwargs={'ls': '-', 'lw': linewidth, 'label': alg, 'color': colors[alg]}, ci_kwargs={'color': colors[alg]})\n",
    "\n",
    "ax.loglog()\n",
    "\n",
    "plt.grid()\n",
    "plt.legend(loc = 'lower left')\n",
    "plt.xlabel('Time (seconds)')\n",
    "plt.ylabel('Normalized objective error')\n",
    "\n",
    "ax = plt.subplot(4, 1, 3)\n",
    "\n",
    "for alg in algorithms:\n",
    "    if alg!='MSG-CCA':\n",
    "        add_fill_lines(ax, domain, alg_subspacex_error[alg][:,domain], plot_kwargs={'ls': '-', 'lw': linewidth, 'label': alg, 'color': colors[alg]}, ci_kwargs={'color': colors[alg]})\n",
    "\n",
    "ax.loglog()\n",
    "\n",
    "plt.grid()\n",
    "plt.legend(loc = 'lower left')\n",
    "plt.xlim((1e2,iters))\n",
    "plt.xlabel('Sample #')\n",
    "plt.ylabel('Vx subspace error')\n",
    "\n",
    "ax = plt.subplot(4, 1, 4)\n",
    "\n",
    "for alg in algorithms:\n",
    "    if alg!='MSG-CCA':\n",
    "        add_fill_lines(ax, np.mean(alg_time[alg][:,domain],axis=0), alg_subspacex_error[alg][:,domain], plot_kwargs={'ls': '-', 'lw': linewidth, 'label': alg, 'color': colors[alg]}, ci_kwargs={'color': colors[alg]})\n",
    "\n",
    "ax.loglog()\n",
    "\n",
    "plt.grid()\n",
    "plt.legend(loc = 'lower left')\n",
    "plt.xlabel('Time (seconds)')\n",
    "plt.ylabel('Vx subspace error')\n",
    "\n",
    "plt.show()"
   ]
  },
  {
   "cell_type": "markdown",
   "metadata": {},
   "source": [
    "##### Bio-CCA constraint error"
   ]
  },
  {
   "cell_type": "code",
   "execution_count": null,
   "metadata": {},
   "outputs": [],
   "source": [
    "linewidth = 2\n",
    "\n",
    "domain = list(sorted(set(map(int, np.round(np.logspace(0, np.log10(iters), num=50, endpoint=False))))))\n",
    "domain_len = len(domain)\n",
    "\n",
    "fig = plt.figure(figsize=(5,5))\n",
    "\n",
    "ax = plt.subplot(1, 1, 1)\n",
    "\n",
    "add_fill_lines(ax, domain, alg_constraint_error['Bio-CCA'][:,domain], plot_kwargs={'ls': '-', 'lw': linewidth, 'label': 'Bio-CCA', 'color': colors['Bio-CCA']}, ci_kwargs={'color': colors['Bio-CCA']})\n",
    "\n",
    "ax.loglog()\n",
    "\n",
    "plt.title(f\"k = {z_dim}\")\n",
    "plt.grid()\n",
    "plt.legend(loc = 'lower left')\n",
    "plt.xlim((1e0,iters))\n",
    "plt.xlabel('Sample #')\n",
    "plt.ylabel('Orthonormality error')\n",
    "\n",
    "plt.show()"
   ]
  },
  {
   "cell_type": "code",
   "execution_count": null,
   "metadata": {},
   "outputs": [],
   "source": []
  }
 ],
 "metadata": {
  "kernelspec": {
   "display_name": "Python 3",
   "language": "python",
   "name": "python3"
  },
  "language_info": {
   "codemirror_mode": {
    "name": "ipython",
    "version": 3
   },
   "file_extension": ".py",
   "mimetype": "text/x-python",
   "name": "python",
   "nbconvert_exporter": "python",
   "pygments_lexer": "ipython3",
   "version": "3.8.3"
  }
 },
 "nbformat": 4,
 "nbformat_minor": 4
}
