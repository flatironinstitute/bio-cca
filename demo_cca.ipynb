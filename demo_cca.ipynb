{
 "cells": [
  {
   "cell_type": "markdown",
   "metadata": {},
   "source": [
    "# Comparison of online CCA algorithms"
   ]
  },
  {
   "cell_type": "markdown",
   "metadata": {},
   "source": [
    "### Imports"
   ]
  },
  {
   "cell_type": "code",
   "execution_count": 1,
   "metadata": {},
   "outputs": [],
   "source": [
    "import numpy as np\n",
    "import pickle as pkl\n",
    "import matplotlib.pyplot as plt\n",
    "import time\n",
    "\n",
    "from cca_algorithms import bio_cca, gen_oja, msg_cca, asy_cca, bio_rrr\n",
    "from CCAPyramidal import CCAPyramidal\n",
    "from util import correlation_matrix, obj_error, msg_error, subspace_error, constraint_error, add_fill_lines"
   ]
  },
  {
   "cell_type": "markdown",
   "metadata": {},
   "source": [
    "### Load dataset"
   ]
  },
  {
   "cell_type": "code",
   "execution_count": 2,
   "metadata": {},
   "outputs": [],
   "source": [
    "# select the desired dataset and number of epochs\n",
    "\n",
    "# dataset = 'synthetic'; epochs = 1\n",
    "dataset = 'mediamill'; epochs = 3\n",
    "\n",
    "# load dataset\n",
    "\n",
    "X = np.load(f'datasets/{dataset}/view1.npy')\n",
    "Y = np.load(f'datasets/{dataset}/view2.npy')\n",
    "\n",
    "# dataset dimensions\n",
    "\n",
    "x_dim = X.shape[0]\n",
    "y_dim = Y.shape[0]\n",
    "samples = X.shape[1]"
   ]
  },
  {
   "cell_type": "markdown",
   "metadata": {},
   "source": [
    "### Offline solution"
   ]
  },
  {
   "cell_type": "code",
   "execution_count": 3,
   "metadata": {},
   "outputs": [],
   "source": [
    "# Covariance matrices\n",
    "\n",
    "Cxx = X@X.T/samples\n",
    "Cyy = Y@Y.T/samples\n",
    "Cxy = X@Y.T/samples\n",
    "\n",
    "# Inverse matrices\n",
    "\n",
    "sig_y, Uy = np.linalg.eig(Cyy)\n",
    "\n",
    "Cyy_inv = Uy@np.diag(1./sig_y)@Uy.T\n",
    "\n",
    "# Correlation matrix\n",
    "\n",
    "Rxy = correlation_matrix(Cxx, Cyy, Cxy)\n",
    "\n",
    "# SVD\n",
    "\n",
    "u, canonical_correlations, vh = np.linalg.svd(Rxy)"
   ]
  },
  {
   "cell_type": "markdown",
   "metadata": {},
   "source": [
    "### Online algorithms"
   ]
  },
  {
   "cell_type": "code",
   "execution_count": 16,
   "metadata": {},
   "outputs": [],
   "source": [
    "# Parameters\n",
    "\n",
    "trials = 1; z_dim = 1; iters = epochs*samples; training_samples = 1000"
   ]
  },
  {
   "cell_type": "code",
   "execution_count": 17,
   "metadata": {},
   "outputs": [],
   "source": [
    "# Maximum of the objective\n",
    "\n",
    "max_obj = sum(canonical_correlations[:z_dim])/2"
   ]
  },
  {
   "cell_type": "code",
   "execution_count": 18,
   "metadata": {},
   "outputs": [],
   "source": [
    "# Optimal subspace projections\n",
    "\n",
    "Ux = u[:,:z_dim]\n",
    "Uy = vh.T[:,:z_dim]\n",
    "\n",
    "Px_opt = Ux@np.linalg.inv(Ux.T@Ux)@Ux.T\n",
    "Py_opt = Uy@np.linalg.inv(Uy.T@Uy)@Uy.T"
   ]
  },
  {
   "cell_type": "code",
   "execution_count": 19,
   "metadata": {},
   "outputs": [],
   "source": [
    "# Specify which algorithms to run\n",
    "\n",
    "algorithms = []\n",
    "\n",
    "algorithms.append('Bio-CCA')\n",
    "# algorithms.append('MSG-CCA')\n",
    "# if z_dim==1: algorithms.append('Gen-Oja')\n",
    "# algorithms.append('Asymmetric-CCA')\n",
    "algorithms.append('Bio-RRR')"
   ]
  },
  {
   "cell_type": "code",
   "execution_count": 20,
   "metadata": {},
   "outputs": [],
   "source": [
    "alg_error = {}\n",
    "alg_subspacex_error = {}\n",
    "alg_time = {}\n",
    "\n",
    "for alg in algorithms:\n",
    "    alg_time[alg] = np.zeros((trials,iters))\n",
    "    if alg!='Bio-RRR':\n",
    "        alg_error[alg] = np.zeros((trials,iters))\n",
    "    if alg!='MSG-CCA':\n",
    "        alg_subspacex_error[alg] = np.zeros((trials,iters))\n",
    "    \n",
    "if 'Bio-CCA' in algorithms:\n",
    "    biocca_constraint_error = np.zeros((trials,iters))"
   ]
  },
  {
   "cell_type": "code",
   "execution_count": 21,
   "metadata": {},
   "outputs": [
    {
     "name": "stdout",
     "output_type": "stream",
     "text": [
      "Trial 1 out of 1:\n",
      "Running online algorithms...\n",
      "Epoch 1 out of 3:\n",
      "Elapsed time: 3.295477867126465 seconds\n",
      "Epoch 2 out of 3:\n",
      "Elapsed time: 6.438838005065918 seconds\n",
      "Epoch 3 out of 3:\n",
      "Elapsed time: 9.624061822891235 seconds\n",
      "Computing errors...\n",
      "Elapsed time: 46.16286277770996 seconds\n",
      "Trials complete\n"
     ]
    }
   ],
   "source": [
    "start_time = time.time()\n",
    "\n",
    "for i_trial in range(trials):\n",
    "    \n",
    "    print(f'Trial {i_trial+1} out of {trials}:')\n",
    "                \n",
    "    # Initialize Bio-CCA\n",
    "    \n",
    "    if 'Bio-CCA' in algorithms:\n",
    "        biocca = bio_cca(z_dim,x_dim,y_dim,dataset)   \n",
    "        biocca_Vx = np.zeros((iters,x_dim,z_dim))\n",
    "        biocca_Vy = np.zeros((iters,y_dim,z_dim))\n",
    "    \n",
    "    # Initialize MSG-CCA\n",
    "    \n",
    "    if 'MSG-CCA' in algorithms:\n",
    "        msgcca = msg_cca(z_dim,x_dim,y_dim)\n",
    "        msgcca_M = np.zeros((iters,x_dim,y_dim))\n",
    "    \n",
    "    # Initialize Asymmetric-CCA\n",
    "        \n",
    "    if 'Asymmetric-CCA' in algorithms:\n",
    "        if dataset=='synthetic': asycca = CCAPyramidal(X,Y,k=z_dim,eta={\"W\":0.0002,\"V\":0.0002,\"M\":0.0002,\"Lambda\":0.0002,\"Gamma\":0.0002},steps=iters,alpha=5e-6,mode=\"hierarchy\")\n",
    "        elif dataset=='mediamill': asycca = CCAPyramidal(X,Y,k=z_dim,eta={\"W\":0.002,\"V\":0.002,\"M\":0.002,\"Lambda\":0.002,\"Gamma\":0.002},steps=iters,alpha=5e-6,mode=\"hierarchy\")\n",
    "            \n",
    "        asycca_Vx = np.zeros((iters,x_dim,z_dim))\n",
    "        asycca_Vy = np.zeros((iters,y_dim,z_dim))\n",
    "\n",
    "    # Initialize Bio-RRR\n",
    "        \n",
    "    if 'Bio-RRR' in algorithms:\n",
    "        biorrr = bio_rrr(z_dim,x_dim,y_dim,dataset)\n",
    "        biorrr_Vx = np.zeros((iters,x_dim,z_dim))\n",
    "        biorrr_Vy = np.zeros((iters,y_dim,z_dim))\n",
    "\n",
    "    # Initialize Gen-Oja\n",
    "    \n",
    "    if 'Gen-Oja' in algorithms:\n",
    "        genoja = gen_oja(x_dim,y_dim,dataset)\n",
    "        genoja_vx = np.zeros((iters,x_dim,1))\n",
    "        genoja_vy = np.zeros((iters,y_dim,1))\n",
    "            \n",
    "    # Run online algorithms\n",
    "    \n",
    "    print('Running online algorithms...')\n",
    "    \n",
    "    for i_epoch in range(epochs):\n",
    "        \n",
    "        print(f'Epoch {i_epoch+1} out of {epochs}:')\n",
    "        \n",
    "        # Random permutation of the inputs\n",
    "\n",
    "        idx = np.random.permutation(samples)\n",
    "    \n",
    "        # MSG-CCA covariance estimation on training samples\n",
    "\n",
    "        if i_epoch==0 and 'MSG-CCA' in algorithms:\n",
    "            checkpoint = time.time()\n",
    "            msgcca.cov_estimation(X[:,idx[:]],Y[:,idx[:]])\n",
    "            alg_time['MSG-CCA'][i_trial,:training_samples-1] = time.time() - checkpoint\n",
    "            \n",
    "        # Online updates\n",
    "\n",
    "        for i_sample in range(samples):\n",
    "            \n",
    "            i_iter = i_epoch*samples + i_sample\n",
    "\n",
    "            x = X[:,idx[i_sample]]\n",
    "            y = Y[:,idx[i_sample]]\n",
    "\n",
    "            # online updates\n",
    "\n",
    "            if 'Bio-CCA' in algorithms:\n",
    "                checkpoint = time.time()\n",
    "                biocca_Vx[i_iter], biocca_Vy[i_iter] = biocca.fit_next(x,y)\n",
    "                alg_time['Bio-CCA'][i_trial,i_iter] = alg_time['Bio-CCA'][i_trial,max(i_iter-1,0)] + time.time() - checkpoint\n",
    "            if 'MSG-CCA' in algorithms: \n",
    "                checkpoint = time.time()\n",
    "                msgcca_M[i_iter] = msgcca.fit_next(x,y)\n",
    "                alg_time['MSG-CCA'][i_trial,i_iter] = alg_time['MSG-CCA'][i_trial,max(i_iter-1,0)] + time.time() - checkpoint\n",
    "            if 'Asymmetric-CCA' in algorithms: \n",
    "                checkpoint = time.time()\n",
    "                asycca.online_step(idx[i_sample], asycca.decay(i_iter))\n",
    "                asycca_Vx[i_iter], asycca_Vy[i_iter] = asycca.W, asycca.V\n",
    "                alg_time['Asymmetric-CCA'][i_trial,i_iter] = alg_time['Asymmetric-CCA'][i_trial,max(i_iter-1,0)] + time.time() - checkpoint\n",
    "            if 'Bio-RRR' in algorithms: \n",
    "                checkpoint = time.time()\n",
    "                biorrr_Vx[i_iter], biorrr_Vy[i_iter] = biorrr.fit_next(x,y)\n",
    "                alg_time['Bio-RRR'][i_trial,i_iter] = alg_time['Bio-RRR'][i_trial,max(i_iter-1,0)] + time.time() - checkpoint\n",
    "            if 'Gen-Oja' in algorithms: \n",
    "                checkpoint = time.time()\n",
    "                genoja_vx[i_iter], genoja_vy[i_iter] = genoja.fit_next(x,y)\n",
    "                alg_time['Gen-Oja'][i_trial,i_iter] = alg_time['Gen-Oja'][i_trial,max(i_iter-1,0)] + time.time() - checkpoint\n",
    "                \n",
    "        print(f'Elapsed time: {time.time()-start_time} seconds')\n",
    "        \n",
    "    # Compute error\n",
    "                \n",
    "    print('Computing errors...')\n",
    "\n",
    "    for i_iter in range(iters):\n",
    "        if 'Bio-CCA' in algorithms: \n",
    "            alg_error['Bio-CCA'][i_trial,i_iter] = obj_error(biocca_Vx[i_iter], biocca_Vy[i_iter], Cxx, Cyy, Cxy, max_obj)\n",
    "            alg_subspacex_error['Bio-CCA'][i_trial,i_iter] = subspace_error(biocca_Vx[i_iter], Px_opt)\n",
    "            biocca_constraint_error[i_trial,i_iter] = constraint_error(biocca_Vx[i_iter], biocca_Vy[i_iter], Cxx, Cyy)\n",
    "        if 'MSG-CCA' in algorithms: \n",
    "            alg_error['MSG-CCA'][i_trial,i_iter] = msg_error(msgcca_M[i_iter], Rxy, max_obj)\n",
    "        if 'Asymmetric-CCA' in algorithms: \n",
    "            alg_error['Asymmetric-CCA'][i_trial,i_iter] = obj_error(asycca_Vx[i_iter], asycca_Vy[i_iter], Cxx, Cyy, Cxy, max_obj)\n",
    "            alg_subspacex_error['Asymmetric-CCA'][i_trial,i_iter] = subspace_error(asycca_Vx[i_iter], Px_opt)\n",
    "        if 'Bio-RRR' in algorithms:\n",
    "            alg_subspacex_error['Bio-RRR'][i_trial,i_iter] = subspace_error(biorrr_Vx[i_iter], Px_opt)\n",
    "        if 'Gen-Oja' in algorithms: \n",
    "            alg_error['Gen-Oja'][i_trial,i_iter] = obj_error(genoja_vx[i_iter], genoja_vy[i_iter], Cxx, Cyy, Cxy, max_obj)\n",
    "            alg_subspacex_error['Gen-Oja'][i_trial,i_iter] = subspace_error(genoja_vx[i_iter], Px_opt)\n",
    "            \n",
    "    print(f'Elapsed time: {time.time()-start_time} seconds')\n",
    "\n",
    "# save data \n",
    "            \n",
    "pkl.dump(alg_error, open(f'error/{dataset}_{z_dim}-dim_objective_error.p', 'wb'))\n",
    "pkl.dump(alg_subspacex_error, open(f'error/{dataset}_{z_dim}-dim_subspacex_error.p', 'wb'))\n",
    "pkl.dump(alg_time, open(f'error/{dataset}_{z_dim}-dim_time.p', 'wb'))\n",
    "\n",
    "print('Trials complete')"
   ]
  },
  {
   "cell_type": "markdown",
   "metadata": {},
   "source": [
    "### Comparison plots"
   ]
  },
  {
   "cell_type": "code",
   "execution_count": 22,
   "metadata": {},
   "outputs": [],
   "source": [
    "font = {'weight' : 'normal', 'size' : 15}\n",
    "\n",
    "plt.rc('xtick', labelsize=13) \n",
    "plt.rc('ytick', labelsize=13) \n",
    "\n",
    "plt.rc('font', **font)"
   ]
  },
  {
   "cell_type": "code",
   "execution_count": 23,
   "metadata": {},
   "outputs": [],
   "source": [
    "colors = {}\n",
    "\n",
    "colors['Bio-CCA'] = 'tab:blue'\n",
    "colors['MSG-CCA'] = 'tab:orange'\n",
    "colors['Gen-Oja'] = 'tab:green'\n",
    "colors['Asymmetric-CCA'] = 'tab:red'\n",
    "colors['Bio-RRR'] = 'tab:purple'"
   ]
  },
  {
   "cell_type": "markdown",
   "metadata": {},
   "source": [
    "##### Per iterate comparison (objective error)"
   ]
  },
  {
   "cell_type": "code",
   "execution_count": 24,
   "metadata": {},
   "outputs": [
    {
     "data": {
      "image/png": "[encoded data removed]",
      "text/plain": [
       "<Figure size 360x360 with 1 Axes>"
      ]
     },
     "metadata": {
      "needs_background": "light"
     },
     "output_type": "display_data"
    }
   ],
   "source": [
    "alg_error = pkl.load(open(f'error/{dataset}_{z_dim}-dim_objective_error.p', 'rb'))\n",
    "\n",
    "linewidth = 2\n",
    "\n",
    "t = list(range(iters))\n",
    "\n",
    "fig = plt.figure(figsize=(5,5))\n",
    "\n",
    "ax = plt.subplot(1, 1, 1)\n",
    "\n",
    "for alg in algorithms:\n",
    "    if alg!='Bio-RRR':\n",
    "        add_fill_lines(ax, t, alg_error[alg], plot_kwargs={'ls': '-', 'lw': linewidth, 'label': alg, 'color': colors[alg]}, ci_kwargs={'color': colors[alg]})\n",
    "\n",
    "ax.loglog()\n",
    "\n",
    "plt.title(f\"k = {z_dim}\")\n",
    "plt.grid()\n",
    "plt.legend(loc = 'lower left')\n",
    "plt.xlim((1e2,iters))\n",
    "plt.xlabel('Sample #')\n",
    "plt.ylabel('Normalized objective error')\n",
    "\n",
    "plt.savefig(f'plots/{dataset}_{z_dim}-dim_objective_iterate.png', dpi=300, transparent='true', bbox_inches='tight')"
   ]
  },
  {
   "cell_type": "markdown",
   "metadata": {},
   "source": [
    "##### Runtime comparison"
   ]
  },
  {
   "cell_type": "code",
   "execution_count": 25,
   "metadata": {},
   "outputs": [
    {
     "data": {
      "image/png": "[encoded data removed]",
      "text/plain": [
       "<Figure size 360x360 with 1 Axes>"
      ]
     },
     "metadata": {
      "needs_background": "light"
     },
     "output_type": "display_data"
    }
   ],
   "source": [
    "alg_error = pkl.load(open(f'error/{dataset}_{z_dim}-dim_objective_error.p', 'rb'))\n",
    "alg_time = pkl.load(open(f'error/{dataset}_{z_dim}-dim_time.p', 'rb'))\n",
    "\n",
    "linewidth = 2\n",
    "\n",
    "fig = plt.figure(figsize=(5,5))\n",
    "\n",
    "ax = plt.subplot(1, 1, 1)\n",
    "\n",
    "for alg in algorithms:\n",
    "    if alg!='Bio-RRR':\n",
    "        add_fill_lines(ax, np.mean(alg_time[alg],axis=0), alg_error[alg], plot_kwargs={'ls': '-', 'lw': linewidth, 'label': alg, 'color': colors[alg]}, ci_kwargs={'color': colors[alg]})\n",
    "\n",
    "ax.loglog()\n",
    "\n",
    "plt.title(f\"k = {z_dim}\")\n",
    "plt.grid()\n",
    "plt.legend(loc = 'lower left')\n",
    "plt.xlabel('Time (seconds)')\n",
    "plt.ylabel('Normalized objective error')\n",
    "\n",
    "plt.savefig(f'plots/{dataset}_{z_dim}-dim_objective_runtime.png', dpi=300, transparent='true', bbox_inches='tight')"
   ]
  },
  {
   "cell_type": "markdown",
   "metadata": {},
   "source": [
    "##### Per iterate comparison (subspace error)"
   ]
  },
  {
   "cell_type": "code",
   "execution_count": 26,
   "metadata": {},
   "outputs": [
    {
     "data": {
      "image/png": "[encoded data removed]",
      "text/plain": [
       "<Figure size 360x360 with 1 Axes>"
      ]
     },
     "metadata": {
      "needs_background": "light"
     },
     "output_type": "display_data"
    }
   ],
   "source": [
    "alg_subspacex_error = pkl.load(open(f'error/{dataset}_{z_dim}-dim_subspacex_error.p', 'rb'))\n",
    "\n",
    "linewidth = 2\n",
    "\n",
    "t = list(range(iters))\n",
    "\n",
    "fig = plt.figure(figsize=(5,5))\n",
    "\n",
    "ax = plt.subplot(1, 1, 1)\n",
    "\n",
    "for alg in algorithms:\n",
    "    if alg!='MSG-CCA':\n",
    "        add_fill_lines(ax, t, alg_subspacex_error[alg], plot_kwargs={'ls': '-', 'lw': linewidth, 'label': alg, 'color': colors[alg]}, ci_kwargs={'color': colors[alg]})\n",
    "\n",
    "ax.loglog()\n",
    "\n",
    "plt.title(f\"k = {z_dim}\")\n",
    "plt.grid()\n",
    "plt.legend(loc = 'lower left')\n",
    "plt.xlim((1e2,iters))\n",
    "plt.xlabel('Sample #')\n",
    "plt.ylabel('Vx subspace error')\n",
    "\n",
    "plt.savefig(f'plots/{dataset}_{z_dim}-dim_subspacex_iterate.png', dpi=300, transparent='true', bbox_inches='tight')"
   ]
  },
  {
   "cell_type": "markdown",
   "metadata": {},
   "source": [
    "##### Runtime comparison"
   ]
  },
  {
   "cell_type": "code",
   "execution_count": 27,
   "metadata": {},
   "outputs": [
    {
     "data": {
      "image/png": "[encoded data removed]",
      "text/plain": [
       "<Figure size 360x360 with 1 Axes>"
      ]
     },
     "metadata": {
      "needs_background": "light"
     },
     "output_type": "display_data"
    }
   ],
   "source": [
    "alg_subspacex_error = pkl.load(open(f'error/{dataset}_{z_dim}-dim_subspacex_error.p', 'rb'))\n",
    "alg_time = pkl.load(open(f'error/{dataset}_{z_dim}-dim_time.p', 'rb'))\n",
    "\n",
    "linewidth = 2\n",
    "\n",
    "fig = plt.figure(figsize=(5,5))\n",
    "\n",
    "ax = plt.subplot(1, 1, 1)\n",
    "\n",
    "for alg in algorithms:\n",
    "    if alg!='MSG-CCA':\n",
    "        add_fill_lines(ax, np.mean(alg_time[alg],axis=0), alg_subspacex_error[alg], plot_kwargs={'ls': '-', 'lw': linewidth, 'label': alg, 'color': colors[alg]}, ci_kwargs={'color': colors[alg]})\n",
    "\n",
    "ax.loglog()\n",
    "\n",
    "plt.title(f\"k = {z_dim}\")\n",
    "plt.grid()\n",
    "plt.legend(loc = 'lower left')\n",
    "plt.xlabel('Time (seconds)')\n",
    "plt.ylabel('Vx subspace error')\n",
    "\n",
    "plt.savefig(f'plots/{dataset}_{z_dim}-dim_subspacex_runtime.png', dpi=300, transparent='true', bbox_inches='tight')"
   ]
  },
  {
   "cell_type": "code",
   "execution_count": null,
   "metadata": {},
   "outputs": [],
   "source": []
  }
 ],
 "metadata": {
  "kernelspec": {
   "display_name": "Python 3",
   "language": "python",
   "name": "python3"
  },
  "language_info": {
   "codemirror_mode": {
    "name": "ipython",
    "version": 3
   },
   "file_extension": ".py",
   "mimetype": "text/x-python",
   "name": "python",
   "nbconvert_exporter": "python",
   "pygments_lexer": "ipython3",
   "version": "3.7.6"
  }
 },
 "nbformat": 4,
 "nbformat_minor": 4
}
