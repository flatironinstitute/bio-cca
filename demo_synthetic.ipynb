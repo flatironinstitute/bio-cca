{
 "cells": [
  {
   "cell_type": "markdown",
   "metadata": {},
   "source": [
    "# Comparison of online CCA algorithms on synthetic sources"
   ]
  },
  {
   "cell_type": "markdown",
   "metadata": {},
   "source": [
    "### Imports"
   ]
  },
  {
   "cell_type": "code",
   "execution_count": 27,
   "metadata": {},
   "outputs": [],
   "source": [
    "import numpy as np\n",
    "import matplotlib.pyplot as plt\n",
    "\n",
    "from cca_algorithms import bio_cca\n",
    "from util import correlation_matrix, max_objective, error, constraint_error, add_fill_lines"
   ]
  },
  {
   "cell_type": "markdown",
   "metadata": {},
   "source": [
    "### Dataset"
   ]
  },
  {
   "cell_type": "code",
   "execution_count": 28,
   "metadata": {},
   "outputs": [],
   "source": [
    "dataset = 'synthetic'"
   ]
  },
  {
   "cell_type": "markdown",
   "metadata": {},
   "source": [
    "### Load synthetic dataset"
   ]
  },
  {
   "cell_type": "code",
   "execution_count": 29,
   "metadata": {},
   "outputs": [],
   "source": [
    "X = np.load(f'datasets/{dataset}/view1.npy')\n",
    "Y = np.load(f'datasets/{dataset}/view2.npy')\n",
    "\n",
    "x_dim = X.shape[0]\n",
    "y_dim = Y.shape[0]\n",
    "samples = X.shape[1]"
   ]
  },
  {
   "cell_type": "markdown",
   "metadata": {},
   "source": [
    "### Offline solution"
   ]
  },
  {
   "cell_type": "code",
   "execution_count": 30,
   "metadata": {},
   "outputs": [],
   "source": [
    "# Covariance matrices\n",
    "\n",
    "Cxx = X@X.T/samples\n",
    "Cyy = Y@Y.T/samples\n",
    "Cxy = X@Y.T/samples"
   ]
  },
  {
   "cell_type": "code",
   "execution_count": 31,
   "metadata": {},
   "outputs": [],
   "source": [
    "# Correlation matrix\n",
    "\n",
    "Rxy = correlation_matrix(Cxx, Cyy, Cxy)"
   ]
  },
  {
   "cell_type": "markdown",
   "metadata": {},
   "source": [
    "### Plot canonical correlations"
   ]
  },
  {
   "cell_type": "code",
   "execution_count": 32,
   "metadata": {},
   "outputs": [],
   "source": [
    "u, s, vh = np.linalg.svd(Rxy)"
   ]
  },
  {
   "cell_type": "code",
   "execution_count": 33,
   "metadata": {},
   "outputs": [
    {
     "data": {
      "image/png": "[encoded data removed]",
      "text/plain": [
       "<Figure size 576x576 with 1 Axes>"
      ]
     },
     "metadata": {
      "needs_background": "light"
     },
     "output_type": "display_data"
    }
   ],
   "source": [
    "fig = plt.figure(figsize=(8,8))\n",
    "\n",
    "plt.plot(s[0:10], 'o')\n",
    "plt.show()"
   ]
  },
  {
   "cell_type": "markdown",
   "metadata": {},
   "source": [
    "### Online algorithms"
   ]
  },
  {
   "cell_type": "code",
   "execution_count": 34,
   "metadata": {},
   "outputs": [],
   "source": [
    "z_dim = 1; trials = 1\n",
    "\n",
    "biocca_err = np.zeros((trials,samples))\n",
    "msgcca_err = np.zeros((trials,samples))\n",
    "genoja_err = np.zeros((trials,samples))"
   ]
  },
  {
   "cell_type": "code",
   "execution_count": 35,
   "metadata": {},
   "outputs": [
    {
     "name": "stdout",
     "output_type": "stream",
     "text": [
      "Trial 1 of out 1:\n",
      "Running online algorithms...\n",
      "Computing errors...\n"
     ]
    }
   ],
   "source": [
    "for i_trial in range(trials):\n",
    "    \n",
    "    print(f'Trial {i_trial+1} of out {trials}:')\n",
    "    \n",
    "    # Random permutation of the inputs\n",
    "\n",
    "    idx = np.random.permutation(samples)\n",
    "    \n",
    "    # Initialize algorithm\n",
    "    \n",
    "    biocca = bio_cca(z_dim,x_dim,y_dim,dataset)\n",
    "    \n",
    "    biocca_Vx = np.zeros((samples,x_dim,z_dim))\n",
    "    biocca_Vy = np.zeros((samples,y_dim,z_dim))\n",
    "    biocca_err = np.zeros((trials,samples))\n",
    "    biocca_constraint_err = np.zeros((trials,samples))\n",
    "    \n",
    "    # Run online algorithms\n",
    "    \n",
    "    print('Running online algorithms...')\n",
    "    \n",
    "    for i_sample in range(samples):\n",
    "\n",
    "        x = X[:,idx[i_sample]]\n",
    "        y = Y[:,idx[i_sample]]\n",
    "        \n",
    "        biocca_Vx[i_sample], biocca_Vy[i_sample] = biocca.fit_next(x,y)\n",
    "        \n",
    "    # Compute error\n",
    "                \n",
    "    print('Computing errors...')\n",
    "\n",
    "    for i_sample in range(samples):\n",
    "        biocca_err[i_trial,i_sample] = error(biocca_Vx[i_sample], biocca_Vy[i_sample], Cxx, Cyy, Cxy)\n",
    "        biocca_constraint_err[i_trial,i_sample] = constraint_error(biocca_Vx[i_sample], biocca_Vy[i_sample], Cxx, Cyy)"
   ]
  },
  {
   "cell_type": "markdown",
   "metadata": {},
   "source": [
    "### Comparison plots"
   ]
  },
  {
   "cell_type": "code",
   "execution_count": 36,
   "metadata": {},
   "outputs": [
    {
     "data": {
      "image/png": "[encoded data removed]",
      "text/plain": [
       "<Figure size 360x360 with 1 Axes>"
      ]
     },
     "metadata": {
      "needs_background": "light"
     },
     "output_type": "display_data"
    }
   ],
   "source": [
    "linewidth = 3\n",
    "\n",
    "t = list(range(samples))\n",
    "\n",
    "fig = plt.figure(figsize=(5,5))\n",
    "\n",
    "ax = plt.subplot(1, 1, 1)\n",
    "\n",
    "add_fill_lines(ax, t, biocca_err, plot_kwargs={'ls': '-', 'lw': linewidth, 'label': 'Bio-CCA'})\n",
    "\n",
    "ax.loglog()\n",
    "\n",
    "plt.title(f\"k={z_dim}\")\n",
    "plt.grid()\n",
    "plt.legend(loc = 'lower left')\n",
    "plt.xlabel('Sample #')\n",
    "plt.ylabel('Error')\n",
    "\n",
    "plt.show()"
   ]
  },
  {
   "cell_type": "code",
   "execution_count": null,
   "metadata": {},
   "outputs": [],
   "source": []
  }
 ],
 "metadata": {
  "kernelspec": {
   "display_name": "Python 3",
   "language": "python",
   "name": "python3"
  },
  "language_info": {
   "codemirror_mode": {
    "name": "ipython",
    "version": 3
   },
   "file_extension": ".py",
   "mimetype": "text/x-python",
   "name": "python",
   "nbconvert_exporter": "python",
   "pygments_lexer": "ipython3",
   "version": "3.8.3"
  }
 },
 "nbformat": 4,
 "nbformat_minor": 4
}
