{
 "cells": [
  {
   "cell_type": "markdown",
   "metadata": {},
   "source": [
    "### Imports"
   ]
  },
  {
   "cell_type": "code",
   "execution_count": 1,
   "metadata": {},
   "outputs": [],
   "source": [
    "import numpy as np\n",
    "import pickle as pkl\n",
    "import matplotlib.pyplot as plt\n",
    "import time\n",
    "\n",
    "from cca_algorithms import bio_cca, gen_oja, bio_rrr, asy_cca, adaptive_bio_cca\n",
    "from util import correlation_matrix, add_fill_lines"
   ]
  },
  {
   "cell_type": "markdown",
   "metadata": {},
   "source": [
    "### Load dataset"
   ]
  },
  {
   "cell_type": "code",
   "execution_count": 2,
   "metadata": {},
   "outputs": [],
   "source": [
    "dataset = 'adaptive'"
   ]
  },
  {
   "cell_type": "code",
   "execution_count": 3,
   "metadata": {},
   "outputs": [],
   "source": [
    "# load dataset\n",
    "\n",
    "if dataset=='synthetic':\n",
    "    X = np.load('datasets/synthetic/view1.npy')\n",
    "    Y = np.load('datasets/synthetic/view2.npy')\n",
    "elif dataset=='mediamill':\n",
    "    X = np.load('datasets/mediamill/view1.npy')\n",
    "    Y = np.load('datasets/mediamill/view2.npy')\n",
    "elif dataset=='adaptive':\n",
    "    modes = [\"A\", \"B\", \"C\"]\n",
    "    X, Y = {}, {}\n",
    "    X[\"A\"] = np.load('datasets/adaptive/view1a.npy')\n",
    "    Y[\"A\"] = np.load('datasets/adaptive/view2a.npy')\n",
    "    X[\"B\"] = np.load('datasets/adaptive/view1b.npy')\n",
    "    Y[\"B\"] = np.load('datasets/adaptive/view2b.npy')\n",
    "    X[\"C\"] = np.load('datasets/adaptive/view1c.npy')\n",
    "    Y[\"C\"] = np.load('datasets/adaptive/view2c.npy')\n",
    "\n",
    "# dataset dimensions\n",
    "\n",
    "x_dim = X[\"A\"].shape[0]\n",
    "y_dim = Y[\"A\"].shape[0]\n",
    "\n",
    "samples = {\"A\": X[\"A\"].shape[1], \"B\": X[\"B\"].shape[1], \"C\": X[\"C\"].shape[1]}"
   ]
  },
  {
   "cell_type": "markdown",
   "metadata": {},
   "source": [
    "### Offline solution"
   ]
  },
  {
   "cell_type": "code",
   "execution_count": 4,
   "metadata": {},
   "outputs": [],
   "source": [
    "Cxx, Cyy, Cxy, Rxy, u, canonical_correlations, vh = {}, {}, {}, {}, {}, {}, {}\n",
    "\n",
    "for mode in modes:\n",
    "    Cxx[mode] = X[mode]@X[mode].T/samples[mode]\n",
    "    Cyy[mode] = Y[mode]@Y[mode].T/samples[mode]\n",
    "    Cxy[mode] = X[mode]@Y[mode].T/samples[mode]\n",
    "    Rxy[mode] = correlation_matrix(Cxx[mode],Cyy[mode],Cxy[mode])\n",
    "    u[mode], canonical_correlations[mode], vh[mode] = np.linalg.svd(Rxy[mode])"
   ]
  },
  {
   "cell_type": "markdown",
   "metadata": {},
   "source": [
    "### Plot canonical correlations"
   ]
  },
  {
   "cell_type": "code",
   "execution_count": 16,
   "metadata": {},
   "outputs": [
    {
     "data": {
      "image/png": "[encoded data removed]",
      "text/plain": [
       "<Figure size 1080x360 with 3 Axes>"
      ]
     },
     "metadata": {
      "needs_background": "light"
     },
     "output_type": "display_data"
    }
   ],
   "source": [
    "fig = plt.figure(figsize=(15,5))\n",
    "\n",
    "ax = plt.subplot(1, 3, 1)\n",
    "\n",
    "ax.plot(canonical_correlations[\"A\"], 'o', color='black')\n",
    "plt.xlim(-.5,9.5)\n",
    "plt.ylim(0,1)\n",
    "plt.title('Canonical correlations (dataset A)')\n",
    "plt.xlabel('i')\n",
    "plt.ylabel('rho(i)')\n",
    "plt.grid()\n",
    "\n",
    "ax = plt.subplot(1, 3, 2)\n",
    "\n",
    "ax.plot(canonical_correlations[\"B\"], 'o', color='black')\n",
    "plt.xlim(-.5,9.5)\n",
    "plt.ylim(0,1)\n",
    "plt.title('Canonical correlations (dataset B)')\n",
    "plt.xlabel('i')\n",
    "plt.ylabel('rho(i)')\n",
    "plt.grid()\n",
    "\n",
    "ax = plt.subplot(1, 3, 3)\n",
    "\n",
    "ax.plot(canonical_correlations[\"C\"], 'o', color='black')\n",
    "plt.xlim(-.5,9.5)\n",
    "plt.ylim(0,1)\n",
    "plt.title('Canonical correlations (dataset C)')\n",
    "plt.xlabel('i')\n",
    "plt.ylabel('rho(i)')\n",
    "plt.grid()\n",
    "\n",
    "plt.show()"
   ]
  },
  {
   "cell_type": "code",
   "execution_count": 9,
   "metadata": {},
   "outputs": [],
   "source": [
    "r = {\"A\": 4, \"B\": 8, \"C\":1}"
   ]
  },
  {
   "cell_type": "markdown",
   "metadata": {},
   "source": [
    "### Online algorithms"
   ]
  },
  {
   "cell_type": "code",
   "execution_count": 6,
   "metadata": {},
   "outputs": [],
   "source": [
    "# Parameters\n",
    "\n",
    "trials = 1; z_dim = 10; iters = 0\n",
    "\n",
    "for mode in modes:\n",
    "    iters += samples[mode]"
   ]
  },
  {
   "cell_type": "code",
   "execution_count": 7,
   "metadata": {},
   "outputs": [],
   "source": [
    "# Maximum of the objective\n",
    "\n",
    "max_obj = {}\n",
    "\n",
    "for mode in modes:\n",
    "    max_obj[mode] = sum(canonical_correlations[mode][:z_dim]/2)"
   ]
  },
  {
   "cell_type": "code",
   "execution_count": 18,
   "metadata": {},
   "outputs": [],
   "source": [
    "# Optimal subspace projections\n",
    "\n",
    "Ux, Uy, Px_opt, Py_opt = {}, {}, {}, {}\n",
    "\n",
    "for mode in modes:\n",
    "    Ux[mode] = u[mode][:,:r[mode]]\n",
    "    Uy[mode] = vh[mode].T[:,:r[mode]]\n",
    "\n",
    "    Px_opt[mode] = Ux[mode]@np.linalg.inv(Ux[mode].T@Ux[mode])@Ux[mode].T\n",
    "    Py_opt[mode] = Uy[mode]@np.linalg.inv(Uy[mode].T@Uy[mode])@Uy[mode].T"
   ]
  },
  {
   "cell_type": "code",
   "execution_count": 8,
   "metadata": {},
   "outputs": [],
   "source": [
    "# Specify which algorithms to run\n",
    "\n",
    "algorithms = []\n",
    "\n",
    "algorithms.append('Adaptive Bio-CCA')\n",
    "# algorithms.append('Bio-CCA')\n",
    "# if z_dim==1: algorithms.append('Gen-Oja')\n",
    "# algorithms.append('Asymmetric-CCA')\n",
    "algorithms.append('Bio-RRR')"
   ]
  },
  {
   "cell_type": "code",
   "execution_count": 20,
   "metadata": {},
   "outputs": [],
   "source": [
    "alg_error = {}\n",
    "alg_subspacex_error = {}\n",
    "alg_time = {}\n",
    "\n",
    "for alg in algorithms:\n",
    "    alg_time[alg] = np.zeros((trials,iters))\n",
    "    alg_subspacex_error[alg] = np.zeros((trials,iters))"
   ]
  },
  {
   "cell_type": "code",
   "execution_count": 21,
   "metadata": {},
   "outputs": [
    {
     "name": "stdout",
     "output_type": "stream",
     "text": [
      "Trial 1 out of 1:\n",
      "The optimal learning rates for this dataset are not stored\n",
      "The optimal learning rates for this dataset are not stored\n",
      "Running online algorithms...\n",
      "Mode A:\n"
     ]
    },
    {
     "ename": "TypeError",
     "evalue": "'dict' object cannot be interpreted as an integer",
     "output_type": "error",
     "traceback": [
      "\u001b[0;31m---------------------------------------------------------------------------\u001b[0m",
      "\u001b[0;31mTypeError\u001b[0m                                 Traceback (most recent call last)",
      "\u001b[0;32m<ipython-input-21-aa602fe98e5d>\u001b[0m in \u001b[0;36m<module>\u001b[0;34m\u001b[0m\n\u001b[1;32m     54\u001b[0m         \u001b[0;31m# Online updates\u001b[0m\u001b[0;34m\u001b[0m\u001b[0;34m\u001b[0m\u001b[0;34m\u001b[0m\u001b[0m\n\u001b[1;32m     55\u001b[0m \u001b[0;34m\u001b[0m\u001b[0m\n\u001b[0;32m---> 56\u001b[0;31m         \u001b[0;32mfor\u001b[0m \u001b[0mi_sample\u001b[0m \u001b[0;32min\u001b[0m \u001b[0mrange\u001b[0m\u001b[0;34m(\u001b[0m\u001b[0msamples\u001b[0m\u001b[0;34m)\u001b[0m\u001b[0;34m:\u001b[0m\u001b[0;34m\u001b[0m\u001b[0;34m\u001b[0m\u001b[0m\n\u001b[0m\u001b[1;32m     57\u001b[0m \u001b[0;34m\u001b[0m\u001b[0m\n\u001b[1;32m     58\u001b[0m             \u001b[0mi_iter\u001b[0m \u001b[0;34m=\u001b[0m \u001b[0mi_epoch\u001b[0m\u001b[0;34m*\u001b[0m\u001b[0msamples\u001b[0m \u001b[0;34m+\u001b[0m \u001b[0mi_sample\u001b[0m\u001b[0;34m\u001b[0m\u001b[0;34m\u001b[0m\u001b[0m\n",
      "\u001b[0;31mTypeError\u001b[0m: 'dict' object cannot be interpreted as an integer"
     ]
    }
   ],
   "source": [
    "start_time = time.time()\n",
    "\n",
    "for i_trial in range(trials):\n",
    "    \n",
    "    print(f'Trial {i_trial+1} out of {trials}:')\n",
    "                \n",
    "    # Initialize Bio-CCA\n",
    "    \n",
    "    if 'Adaptive Bio-CCA' in algorithms:\n",
    "        adaptive = adaptive_bio_cca(z_dim,x_dim,y_dim,dataset)\n",
    "        adaptive_Vx = np.zeros((iters,x_dim,z_dim))\n",
    "        adaptive_Vy = np.zeros((iters,y_dim,z_dim))\n",
    "    \n",
    "    if 'Bio-CCA' in algorithms:\n",
    "        biocca = bio_cca(z_dim,x_dim,y_dim,dataset)   \n",
    "        biocca_Vx = np.zeros((iters,x_dim,z_dim))\n",
    "        biocca_Vy = np.zeros((iters,y_dim,z_dim))\n",
    "    \n",
    "    # Initialize Asymmetric-CCA\n",
    "        \n",
    "    if 'Asymmetric-CCA' in algorithms:\n",
    "        if dataset=='synthetic': asycca = CCAPyramidal(X,Y,k=z_dim,eta={\"W\":0.002,\"V\":0.002,\"M\":0.002,\"Lambda\":0.002,\"Gamma\":0.002},steps=iters,alpha=5e-6,mode=\"hierarchy\")\n",
    "        elif dataset=='mediamill': asycca = CCAPyramidal(X,Y,k=z_dim,eta={\"W\":0.002,\"V\":0.002,\"M\":0.002,\"Lambda\":0.002,\"Gamma\":0.002},steps=iters,alpha=5e-6,mode=\"hierarchy\")\n",
    "            \n",
    "        asycca_Vx = np.zeros((iters,x_dim,z_dim))\n",
    "        asycca_Vy = np.zeros((iters,y_dim,z_dim))\n",
    "\n",
    "    # Initialize Bio-RRR\n",
    "        \n",
    "    if 'Bio-RRR' in algorithms:\n",
    "        biorrr = bio_rrr(z_dim,x_dim,y_dim,dataset)\n",
    "        biorrr_Vx = np.zeros((iters,x_dim,z_dim))\n",
    "        biorrr_Vy = np.zeros((iters,y_dim,z_dim))\n",
    "\n",
    "    # Initialize Gen-Oja\n",
    "    \n",
    "    if 'Gen-Oja' in algorithms:\n",
    "        genoja = gen_oja(x_dim,y_dim,dataset)\n",
    "        genoja_vx = np.zeros((iters,x_dim,1))\n",
    "        genoja_vy = np.zeros((iters,y_dim,1))\n",
    "            \n",
    "    # Run online algorithms\n",
    "    \n",
    "    print('Running online algorithms...')\n",
    "    \n",
    "    i_epoch = 0\n",
    "    \n",
    "    for mode in modes:\n",
    "        \n",
    "        print(f'Mode {mode}:')\n",
    "        \n",
    "        # Random permutation of the inputs\n",
    "\n",
    "        idx = np.random.permutation(samples[mode])\n",
    "    \n",
    "        # Online updates\n",
    "\n",
    "        for i_sample in range(samples[mode]):\n",
    "            \n",
    "            i_iter = i_epoch*samples + i_sample\n",
    "\n",
    "            x = X[:,idx[i_sample]]\n",
    "            y = Y[:,idx[i_sample]]\n",
    "\n",
    "            # online updates\n",
    "\n",
    "            if 'Adaptive Bio-CCA' in algorithms:\n",
    "                checkpoint = time.time()\n",
    "                adaptive_Vx[i_iter], adaptive_Vy[i_iter] = adaptive.fit_next(x,y)\n",
    "                alg_time['Adaptive Bio-CCA'][i_trial,i_iter] = alg_time['Adaptive Bio-CCA'][i_trial,max(i_iter-1,0)] + time.time() - checkpoint\n",
    "            if 'Bio-CCA' in algorithms:\n",
    "                checkpoint = time.time()\n",
    "                biocca_Vx[i_iter], biocca_Vy[i_iter] = biocca.fit_next(x,y)\n",
    "                alg_time['Bio-CCA'][i_trial,i_iter] = alg_time['Bio-CCA'][i_trial,max(i_iter-1,0)] + time.time() - checkpoint\n",
    "            if 'MSG-CCA' in algorithms: \n",
    "                checkpoint = time.time()\n",
    "                msgcca_M[i_iter] = msgcca.fit_next(x,y)\n",
    "                alg_time['MSG-CCA'][i_trial,i_iter] = alg_time['MSG-CCA'][i_trial,max(i_iter-1,0)] + time.time() - checkpoint\n",
    "            if 'Asymmetric-CCA' in algorithms: \n",
    "                checkpoint = time.time()\n",
    "                asycca.online_step(idx[i_sample], asycca.decay(i_iter))\n",
    "                asycca_Vx[i_iter], asycca_Vy[i_iter] = asycca.W, asycca.V\n",
    "                alg_time['Asymmetric-CCA'][i_trial,i_iter] = alg_time['Asymmetric-CCA'][i_trial,max(i_iter-1,0)] + time.time() - checkpoint\n",
    "            if 'Bio-RRR' in algorithms: \n",
    "                checkpoint = time.time()\n",
    "                biorrr_Vx[i_iter], biorrr_Vy[i_iter] = biorrr.fit_next(x,y)\n",
    "                alg_time['Bio-RRR'][i_trial,i_iter] = alg_time['Bio-RRR'][i_trial,max(i_iter-1,0)] + time.time() - checkpoint\n",
    "            if 'Gen-Oja' in algorithms: \n",
    "                checkpoint = time.time()\n",
    "                genoja_vx[i_iter], genoja_vy[i_iter] = genoja.fit_next(x,y)\n",
    "                alg_time['Gen-Oja'][i_trial,i_iter] = alg_time['Gen-Oja'][i_trial,max(i_iter-1,0)] + time.time() - checkpoint\n",
    "                \n",
    "        print(f'Elapsed time: {time.time()-start_time} seconds')\n",
    "        \n",
    "        i_epoch+=1\n",
    "        \n",
    "    # Compute error\n",
    "                \n",
    "    print('Computing errors...')\n",
    "\n",
    "    for i_iter in range(iters):\n",
    "        if 'Adaptive Bio-CCA' in algorithms:\n",
    "            alg_subspacex_error['Adaptive Bio-CCA'][i_trial,i_iter] = subspace_error(adaptive_Vx[i_iter], Px_opt)\n",
    "        if 'Bio-CCA' in algorithms: \n",
    "            alg_subspacex_error['Bio-CCA'][i_trial,i_iter] = subspace_error(biocca_Vx[i_iter], Px_opt)\n",
    "        if 'Asymmetric-CCA' in algorithms: \n",
    "            alg_subspacex_error['Asymmetric-CCA'][i_trial,i_iter] = subspace_error(asycca_Vx[i_iter], Px_opt)\n",
    "        if 'Bio-RRR' in algorithms:\n",
    "            alg_subspacex_error['Bio-RRR'][i_trial,i_iter] = subspace_error(biorrr_Vx[i_iter], Px_opt)\n",
    "        if 'Gen-Oja' in algorithms: \n",
    "            alg_subspacex_error['Gen-Oja'][i_trial,i_iter] = subspace_error(genoja_vx[i_iter], Px_opt)\n",
    "            \n",
    "    print(f'Elapsed time: {time.time()-start_time} seconds')\n",
    "\n",
    "# save data \n",
    "            \n",
    "pkl.dump(alg_subspacex_error, open(f'error/{dataset}_{z_dim}-dim_subspacex_error.p', 'wb'))\n",
    "pkl.dump(alg_time, open(f'error/{dataset}_{z_dim}-dim_time.p', 'wb'))\n",
    "\n",
    "print('Trials complete')"
   ]
  },
  {
   "cell_type": "code",
   "execution_count": null,
   "metadata": {},
   "outputs": [],
   "source": []
  }
 ],
 "metadata": {
  "kernelspec": {
   "display_name": "Python 3",
   "language": "python",
   "name": "python3"
  },
  "language_info": {
   "codemirror_mode": {
    "name": "ipython",
    "version": 3
   },
   "file_extension": ".py",
   "mimetype": "text/x-python",
   "name": "python",
   "nbconvert_exporter": "python",
   "pygments_lexer": "ipython3",
   "version": "3.7.6"
  }
 },
 "nbformat": 4,
 "nbformat_minor": 4
}
