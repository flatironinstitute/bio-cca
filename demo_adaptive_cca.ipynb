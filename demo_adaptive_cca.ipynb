{
 "cells": [
  {
   "cell_type": "markdown",
   "metadata": {},
   "source": [
    "# Adaptive Bio-CCA demo"
   ]
  },
  {
   "cell_type": "markdown",
   "metadata": {},
   "source": [
    "### Imports"
   ]
  },
  {
   "cell_type": "code",
   "execution_count": 1,
   "metadata": {},
   "outputs": [],
   "source": [
    "import numpy as np\n",
    "import pickle as pkl\n",
    "import matplotlib.pyplot as plt\n",
    "import time\n",
    "\n",
    "from cca_algorithms import bio_cca, gen_oja, bio_rrr, asy_cca, adaptive_bio_cca\n",
    "from util import subspace_error, correlation_matrix, add_fill_lines"
   ]
  },
  {
   "cell_type": "markdown",
   "metadata": {},
   "source": [
    "### Load dataset"
   ]
  },
  {
   "cell_type": "code",
   "execution_count": 56,
   "metadata": {},
   "outputs": [],
   "source": [
    "# dataset = 'synthetic'\n",
    "# dataset = 'mediamill'\n",
    "dataset = 'adaptive'"
   ]
  },
  {
   "cell_type": "code",
   "execution_count": 57,
   "metadata": {},
   "outputs": [],
   "source": [
    "# load dataset\n",
    "\n",
    "X, Y, samples = {}, {}, {}\n",
    "\n",
    "if dataset=='synthetic':\n",
    "    modes = [\"A\"]\n",
    "    X[\"A\"] = np.load('datasets/synthetic/view1.npy')\n",
    "    Y[\"A\"] = np.load('datasets/synthetic/view2.npy')\n",
    "elif dataset=='mediamill':\n",
    "    modes = [\"A\"]\n",
    "    X[\"A\"] = np.load('datasets/mediamill/view1.npy')\n",
    "    Y[\"A\"] = np.load('datasets/mediamill/view2.npy')\n",
    "elif dataset=='adaptive':\n",
    "    modes = [\"A\", \"B\", \"C\"]\n",
    "    X[\"A\"] = np.load('datasets/adaptive/view1a.npy')\n",
    "    Y[\"A\"] = np.load('datasets/adaptive/view2a.npy')\n",
    "    X[\"B\"] = np.load('datasets/adaptive/view1b.npy')\n",
    "    Y[\"B\"] = np.load('datasets/adaptive/view2b.npy')\n",
    "    X[\"C\"] = np.load('datasets/adaptive/view1c.npy')\n",
    "    Y[\"C\"] = np.load('datasets/adaptive/view2c.npy')\n",
    "\n",
    "# dataset dimensions\n",
    "\n",
    "x_dim = X[\"A\"].shape[0]\n",
    "y_dim = Y[\"A\"].shape[0]\n",
    "\n",
    "for mode in modes:\n",
    "    samples[mode] = X[mode].shape[1]"
   ]
  },
  {
   "cell_type": "markdown",
   "metadata": {},
   "source": [
    "### Offline solution"
   ]
  },
  {
   "cell_type": "code",
   "execution_count": 58,
   "metadata": {},
   "outputs": [],
   "source": [
    "Cxx, Cyy, Cxy, Rxy, u, canonical_correlations, vh = {}, {}, {}, {}, {}, {}, {}\n",
    "\n",
    "for mode in modes:\n",
    "    Cxx[mode] = X[mode]@X[mode].T/samples[mode]\n",
    "    Cyy[mode] = Y[mode]@Y[mode].T/samples[mode]\n",
    "    Cxy[mode] = X[mode]@Y[mode].T/samples[mode]\n",
    "    Rxy[mode] = correlation_matrix(Cxx[mode],Cyy[mode],Cxy[mode])\n",
    "    u[mode], canonical_correlations[mode], vh[mode] = np.linalg.svd(Rxy[mode])"
   ]
  },
  {
   "cell_type": "markdown",
   "metadata": {},
   "source": [
    "### Plot canonical correlations"
   ]
  },
  {
   "cell_type": "code",
   "execution_count": 59,
   "metadata": {},
   "outputs": [
    {
     "data": {
      "image/png": "[encoded data removed]",
      "text/plain": [
       "<Figure size 1080x360 with 3 Axes>"
      ]
     },
     "metadata": {
      "needs_background": "light"
     },
     "output_type": "display_data"
    }
   ],
   "source": [
    "fig = plt.figure(figsize=(5*len(modes),5))\n",
    "\n",
    "i = 1\n",
    "\n",
    "for mode in modes:\n",
    "\n",
    "    ax = plt.subplot(1, len(modes), i)\n",
    "\n",
    "    ax.plot(canonical_correlations[mode], 'o', color='black')\n",
    "    plt.xlim(-.5,9.5)\n",
    "    plt.ylim(0,1)\n",
    "    plt.title(f'Canonical correlations ({mode})')\n",
    "    plt.xlabel('i')\n",
    "    plt.ylabel('rho(i)')\n",
    "    plt.grid()\n",
    "    \n",
    "    i += 1\n",
    "\n",
    "plt.show()"
   ]
  },
  {
   "cell_type": "markdown",
   "metadata": {},
   "source": [
    "### Online algorithms"
   ]
  },
  {
   "cell_type": "code",
   "execution_count": 60,
   "metadata": {},
   "outputs": [],
   "source": [
    "# Parameters\n",
    "\n",
    "trials = 1; z_dim = 10; alpha = 1.5\n",
    "\n",
    "iters = 0\n",
    "\n",
    "for mode in modes:\n",
    "    iters += samples[mode]"
   ]
  },
  {
   "cell_type": "code",
   "execution_count": 61,
   "metadata": {},
   "outputs": [],
   "source": [
    "r = {}\n",
    "\n",
    "for mode in modes:\n",
    "    r[mode] = min(sum(1 for i in canonical_correlations[mode] if 1+i>alpha),z_dim)"
   ]
  },
  {
   "cell_type": "code",
   "execution_count": 62,
   "metadata": {},
   "outputs": [],
   "source": [
    "# Optimal subspace projections\n",
    "\n",
    "Ux, Uy, Px_opt, Py_opt = {}, {}, {}, {}\n",
    "\n",
    "for mode in modes:\n",
    "    Ux[mode] = u[mode][:,:r[mode]]\n",
    "    Uy[mode] = vh[mode].T[:,:r[mode]]\n",
    "\n",
    "    Px_opt[mode] = Ux[mode]@Ux[mode].T\n",
    "    Py_opt[mode] = Uy[mode]@Uy[mode].T"
   ]
  },
  {
   "cell_type": "code",
   "execution_count": 63,
   "metadata": {},
   "outputs": [],
   "source": [
    "# Specify which algorithms to run\n",
    "\n",
    "algorithms = []\n",
    "\n",
    "algorithms.append('Adaptive Bio-CCA')\n",
    "# algorithms.append('Bio-CCA')\n",
    "# if z_dim==1: algorithms.append('Gen-Oja')\n",
    "# algorithms.append('Asymmetric-CCA')\n",
    "algorithms.append('Bio-RRR')"
   ]
  },
  {
   "cell_type": "code",
   "execution_count": 64,
   "metadata": {},
   "outputs": [],
   "source": [
    "alg_subspacex_error = {}\n",
    "alg_time = {}\n",
    "\n",
    "for alg in algorithms:\n",
    "    alg_time[alg] = np.zeros((trials,iters))\n",
    "    alg_subspacex_error[alg] = np.zeros((trials,iters))"
   ]
  },
  {
   "cell_type": "code",
   "execution_count": 65,
   "metadata": {},
   "outputs": [
    {
     "name": "stdout",
     "output_type": "stream",
     "text": [
      "Trial 1 out of 1:\n",
      "Running online algorithms...\n",
      "Mode A:\n",
      "Elapsed time: 12.716404914855957 seconds\n",
      "Computing errors...\n",
      "Mode B:\n",
      "Elapsed time: 68.06097793579102 seconds\n",
      "Computing errors...\n",
      "Mode C:\n",
      "Elapsed time: 138.38765597343445 seconds\n",
      "Computing errors...\n",
      "Trials complete\n"
     ]
    }
   ],
   "source": [
    "start_time = time.time()\n",
    "\n",
    "for i_trial in range(trials):\n",
    "    \n",
    "    print(f'Trial {i_trial+1} out of {trials}:')\n",
    "                \n",
    "    # Initialize Bio-CCA\n",
    "    \n",
    "    if 'Adaptive Bio-CCA' in algorithms:\n",
    "        adaptive = adaptive_bio_cca(z_dim,x_dim,y_dim,alpha,dataset)\n",
    "        adaptive_Vx = np.zeros((iters,x_dim,z_dim))\n",
    "        adaptive_Vy = np.zeros((iters,y_dim,z_dim))\n",
    "    \n",
    "    if 'Bio-CCA' in algorithms:\n",
    "        biocca = bio_cca(z_dim,x_dim,y_dim,dataset)   \n",
    "        biocca_Vx = np.zeros((iters,x_dim,z_dim))\n",
    "        biocca_Vy = np.zeros((iters,y_dim,z_dim))\n",
    "    \n",
    "    # Initialize Asymmetric-CCA\n",
    "        \n",
    "    if 'Asymmetric-CCA' in algorithms:\n",
    "        if dataset=='synthetic': asycca = CCAPyramidal(X,Y,k=z_dim,eta={\"W\":0.0002,\"V\":0.0002,\"M\":0.0002,\"Lambda\":0.0002,\"Gamma\":0.0002},steps=iters,alpha=5e-6,mode=\"hierarchy\")\n",
    "        elif dataset=='mediamill': asycca = CCAPyramidal(X,Y,k=z_dim,eta={\"W\":0.002,\"V\":0.002,\"M\":0.002,\"Lambda\":0.002,\"Gamma\":0.002},steps=iters,alpha=5e-6,mode=\"hierarchy\")\n",
    "            \n",
    "        asycca_Vx = np.zeros((iters,x_dim,z_dim))\n",
    "        asycca_Vy = np.zeros((iters,y_dim,z_dim))\n",
    "\n",
    "    # Initialize Bio-RRR\n",
    "        \n",
    "    if 'Bio-RRR' in algorithms:\n",
    "        biorrr = bio_rrr(z_dim,x_dim,y_dim,dataset)\n",
    "        biorrr_Vx = np.zeros((iters,x_dim,z_dim))\n",
    "        biorrr_Vy = np.zeros((iters,y_dim,z_dim))\n",
    "\n",
    "    # Initialize Gen-Oja\n",
    "    \n",
    "    if 'Gen-Oja' in algorithms:\n",
    "        genoja = gen_oja(x_dim,y_dim,dataset)\n",
    "        genoja_vx = np.zeros((iters,x_dim,1))\n",
    "        genoja_vy = np.zeros((iters,y_dim,1))\n",
    "            \n",
    "    # Run online algorithms\n",
    "    \n",
    "    print('Running online algorithms...')\n",
    "    \n",
    "    prev_iters = 0\n",
    "    \n",
    "    for mode in modes:\n",
    "        \n",
    "        print(f'Mode {mode}:')\n",
    "        \n",
    "        # Random permutation of the inputs\n",
    "\n",
    "        idx = np.random.permutation(samples[mode])\n",
    "    \n",
    "        # Online updates\n",
    "\n",
    "        for i_sample in range(samples[mode]):\n",
    "            \n",
    "            i_iter = prev_iters + i_sample\n",
    "\n",
    "            x = X[mode][:,idx[i_sample]]\n",
    "            y = Y[mode][:,idx[i_sample]]\n",
    "\n",
    "            # online updates\n",
    "\n",
    "            if 'Adaptive Bio-CCA' in algorithms:\n",
    "                checkpoint = time.time()\n",
    "                adaptive_Vx[i_iter], adaptive_Vy[i_iter] = adaptive.fit_next(x,y)\n",
    "                alg_time['Adaptive Bio-CCA'][i_trial,i_iter] = alg_time['Adaptive Bio-CCA'][i_trial,max(i_iter-1,0)] + time.time() - checkpoint\n",
    "            if 'Bio-CCA' in algorithms:\n",
    "                checkpoint = time.time()\n",
    "                biocca_Vx[i_iter], biocca_Vy[i_iter] = biocca.fit_next(x,y)\n",
    "                alg_time['Bio-CCA'][i_trial,i_iter] = alg_time['Bio-CCA'][i_trial,max(i_iter-1,0)] + time.time() - checkpoint\n",
    "            if 'Asymmetric-CCA' in algorithms: \n",
    "                checkpoint = time.time()\n",
    "                asycca.online_step(idx[i_sample], asycca.decay(i_iter))\n",
    "                asycca_Vx[i_iter], asycca_Vy[i_iter] = asycca.W, asycca.V\n",
    "                alg_time['Asymmetric-CCA'][i_trial,i_iter] = alg_time['Asymmetric-CCA'][i_trial,max(i_iter-1,0)] + time.time() - checkpoint\n",
    "            if 'Bio-RRR' in algorithms: \n",
    "                checkpoint = time.time()\n",
    "                biorrr_Vx[i_iter], biorrr_Vy[i_iter] = biorrr.fit_next(x,y)\n",
    "                alg_time['Bio-RRR'][i_trial,i_iter] = alg_time['Bio-RRR'][i_trial,max(i_iter-1,0)] + time.time() - checkpoint\n",
    "            if 'Gen-Oja' in algorithms: \n",
    "                checkpoint = time.time()\n",
    "                genoja_vx[i_iter], genoja_vy[i_iter] = genoja.fit_next(x,y)\n",
    "                alg_time['Gen-Oja'][i_trial,i_iter] = alg_time['Gen-Oja'][i_trial,max(i_iter-1,0)] + time.time() - checkpoint\n",
    "                \n",
    "        print(f'Elapsed time: {time.time()-start_time} seconds')\n",
    "        \n",
    "        prev_iters+=samples[mode]\n",
    "        \n",
    "        # Compute error\n",
    "\n",
    "        print('Computing errors...')\n",
    "\n",
    "        for i_iter in range(iters):\n",
    "            if 'Adaptive Bio-CCA' in algorithms:\n",
    "                ux, sx, vxh = np.linalg.svd(adaptive_Vx[i_iter])\n",
    "                alg_subspacex_error['Adaptive Bio-CCA'][i_trial,i_iter] = subspace_error(ux[:,:r[mode]], Px_opt[mode])\n",
    "            if 'Bio-CCA' in algorithms: \n",
    "                alg_subspacex_error['Bio-CCA'][i_trial,i_iter] = subspace_error(biocca_Vx[i_iter], Px_opt[mode])\n",
    "            if 'Asymmetric-CCA' in algorithms: \n",
    "                alg_subspacex_error['Asymmetric-CCA'][i_trial,i_iter] = subspace_error(asycca_Vx[i_iter], Px_opt[mode])\n",
    "            if 'Bio-RRR' in algorithms:\n",
    "                ux, sx, vxh = np.linalg.svd(biorrr_Vx[i_iter])\n",
    "                alg_subspacex_error['Bio-RRR'][i_trial,i_iter] = subspace_error(ux[:,:r[mode]], Px_opt[mode])\n",
    "            if 'Gen-Oja' in algorithms: \n",
    "                alg_subspacex_error['Gen-Oja'][i_trial,i_iter] = subspace_error(genoja_vx[i_iter], Px_opt[mode])\n",
    "            \n",
    "# save data \n",
    "            \n",
    "pkl.dump(alg_subspacex_error, open(f'error/{dataset}_{z_dim}-dim_subspacex_error.p', 'wb'))\n",
    "pkl.dump(alg_time, open(f'error/{dataset}_{z_dim}-dim_time.p', 'wb'))\n",
    "\n",
    "print('Trials complete')"
   ]
  },
  {
   "cell_type": "markdown",
   "metadata": {},
   "source": [
    "### Plots"
   ]
  },
  {
   "cell_type": "code",
   "execution_count": 66,
   "metadata": {},
   "outputs": [],
   "source": [
    "font = {'weight' : 'normal', 'size' : 15}\n",
    "\n",
    "plt.rc('xtick', labelsize=13) \n",
    "plt.rc('ytick', labelsize=13) \n",
    "\n",
    "plt.rc('font', **font)"
   ]
  },
  {
   "cell_type": "code",
   "execution_count": 67,
   "metadata": {},
   "outputs": [],
   "source": [
    "colors = {}\n",
    "\n",
    "colors['Adaptive Bio-CCA'] = 'tab:blue'\n",
    "colors['Gen-Oja'] = 'tab:green'\n",
    "colors['Asymmetric-CCA'] = 'tab:red'\n",
    "colors['Bio-RRR'] = 'tab:purple'"
   ]
  },
  {
   "cell_type": "markdown",
   "metadata": {},
   "source": [
    "##### Per iterate comparison (subspace error)"
   ]
  },
  {
   "cell_type": "code",
   "execution_count": 68,
   "metadata": {},
   "outputs": [
    {
     "data": {
      "image/png": "[encoded data removed]",
      "text/plain": [
       "<Figure size 360x360 with 1 Axes>"
      ]
     },
     "metadata": {
      "needs_background": "light"
     },
     "output_type": "display_data"
    }
   ],
   "source": [
    "alg_subspacex_error = pkl.load(open(f'error/{dataset}_{z_dim}-dim_subspacex_error.p', 'rb'))\n",
    "\n",
    "linewidth = 2\n",
    "\n",
    "t = list(range(iters))\n",
    "\n",
    "fig = plt.figure(figsize=(5,5))\n",
    "\n",
    "ax = plt.subplot(1, 1, 1)\n",
    "\n",
    "for alg in algorithms:\n",
    "    add_fill_lines(ax, t, alg_subspacex_error[alg], plot_kwargs={'ls': '-', 'lw': linewidth, 'label': alg, 'color': colors[alg]}, ci_kwargs={'color': colors[alg]})\n",
    "\n",
    "ax.plot()\n",
    "\n",
    "plt.title(f\"alpha = {alpha}\")\n",
    "plt.grid()\n",
    "plt.legend(loc = 'lower left')\n",
    "plt.xlim((1e2,iters))\n",
    "plt.xlabel('Sample #')\n",
    "plt.ylabel('Vx subspace error')\n",
    "\n",
    "plt.show()\n",
    "# plt.savefig(f'plots/{dataset}_{z_dim}-dim_subspacex_iterate.png', dpi=300, transparent='true', bbox_inches='tight')"
   ]
  },
  {
   "cell_type": "markdown",
   "metadata": {},
   "source": [
    "##### Runtime comparison"
   ]
  },
  {
   "cell_type": "code",
   "execution_count": 55,
   "metadata": {},
   "outputs": [
    {
     "data": {
      "image/png": "[encoded data removed]",
      "text/plain": [
       "<Figure size 360x360 with 1 Axes>"
      ]
     },
     "metadata": {
      "needs_background": "light"
     },
     "output_type": "display_data"
    }
   ],
   "source": [
    "alg_subspacex_error = pkl.load(open(f'error/{dataset}_{z_dim}-dim_subspacex_error.p', 'rb'))\n",
    "alg_time = pkl.load(open(f'error/{dataset}_{z_dim}-dim_time.p', 'rb'))\n",
    "\n",
    "linewidth = 2\n",
    "\n",
    "fig = plt.figure(figsize=(5,5))\n",
    "\n",
    "ax = plt.subplot(1, 1, 1)\n",
    "\n",
    "for alg in algorithms:\n",
    "    if alg!='MSG-CCA':\n",
    "        add_fill_lines(ax, np.mean(alg_time[alg],axis=0), alg_subspacex_error[alg], plot_kwargs={'ls': '-', 'lw': linewidth, 'label': alg, 'color': colors[alg]}, ci_kwargs={'color': colors[alg]})\n",
    "\n",
    "ax.loglog()\n",
    "\n",
    "plt.title(f\"alpha = {alpha}\")\n",
    "plt.grid()\n",
    "plt.legend(loc = 'lower left')\n",
    "plt.xlabel('Time (seconds)')\n",
    "plt.ylabel('Vx subspace error')\n",
    "\n",
    "plt.show()\n",
    "# plt.savefig(f'plots/{dataset}_{z_dim}-dim_subspacex_runtime.png', dpi=300, transparent='true', bbox_inches='tight')"
   ]
  },
  {
   "cell_type": "code",
   "execution_count": null,
   "metadata": {},
   "outputs": [],
   "source": []
  }
 ],
 "metadata": {
  "kernelspec": {
   "display_name": "Python 3",
   "language": "python",
   "name": "python3"
  },
  "language_info": {
   "codemirror_mode": {
    "name": "ipython",
    "version": 3
   },
   "file_extension": ".py",
   "mimetype": "text/x-python",
   "name": "python",
   "nbconvert_exporter": "python",
   "pygments_lexer": "ipython3",
   "version": "3.7.6"
  }
 },
 "nbformat": 4,
 "nbformat_minor": 4
}
