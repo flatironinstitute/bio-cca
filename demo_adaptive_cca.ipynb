{
 "cells": [
  {
   "cell_type": "markdown",
   "metadata": {},
   "source": [
    "# Adaptive Bio-CCA demo"
   ]
  },
  {
   "cell_type": "markdown",
   "metadata": {},
   "source": [
    "### Imports"
   ]
  },
  {
   "cell_type": "code",
   "execution_count": 1,
   "metadata": {},
   "outputs": [],
   "source": [
    "import numpy as np\n",
    "import matplotlib.pyplot as plt\n",
    "import time\n",
    "\n",
    "from adaptive_biocca import adaptive_bio_cca\n",
    "from util import subspace_error, correlation_matrix, add_fill_lines"
   ]
  },
  {
   "cell_type": "markdown",
   "metadata": {},
   "source": [
    "### Load dataset"
   ]
  },
  {
   "cell_type": "code",
   "execution_count": 31,
   "metadata": {},
   "outputs": [],
   "source": [
    "# dataset = 'synthetic'; epochs = 1\n",
    "dataset = 'mediamill'; epochs = 3"
   ]
  },
  {
   "cell_type": "code",
   "execution_count": 32,
   "metadata": {},
   "outputs": [],
   "source": [
    "# Load dataset\n",
    "\n",
    "X, Y, samples = {}, {}, {}\n",
    "\n",
    "if dataset=='synthetic':\n",
    "    X = np.load('datasets/synthetic/view1.npy')\n",
    "    Y = np.load('datasets/synthetic/view2.npy')\n",
    "elif dataset=='mediamill':\n",
    "    X = np.load('datasets/mediamill/view1.npy')\n",
    "    Y = np.load('datasets/mediamill/view2.npy')\n",
    "\n",
    "# dataset dimensions\n",
    "\n",
    "x_dim = X.shape[0]\n",
    "y_dim = Y.shape[0]\n",
    "samples = X.shape[1]"
   ]
  },
  {
   "cell_type": "markdown",
   "metadata": {},
   "source": [
    "### Offline solution"
   ]
  },
  {
   "cell_type": "code",
   "execution_count": 33,
   "metadata": {},
   "outputs": [],
   "source": [
    "Cxx = X@X.T/samples\n",
    "Cyy = Y@Y.T/samples\n",
    "Cxy = X@Y.T/samples\n",
    "Rxy = correlation_matrix(Cxx,Cyy,Cxy)\n",
    "u, canonical_correlations, vh = np.linalg.svd(Rxy)"
   ]
  },
  {
   "cell_type": "markdown",
   "metadata": {},
   "source": [
    "### Plot canonical correlations"
   ]
  },
  {
   "cell_type": "code",
   "execution_count": 34,
   "metadata": {},
   "outputs": [
    {
     "data": {
      "image/png": "[encoded data removed]",
      "text/plain": [
       "<Figure size 360x360 with 1 Axes>"
      ]
     },
     "metadata": {
      "needs_background": "light"
     },
     "output_type": "display_data"
    }
   ],
   "source": [
    "fig = plt.figure(figsize=(5,5))\n",
    "\n",
    "ax = plt.subplot(1,1,1)\n",
    "\n",
    "ax.plot(canonical_correlations, 'o', color='black')\n",
    "plt.xlim(-.5,9.5)\n",
    "plt.ylim(0,1)\n",
    "plt.title(f'Canonical correlations')\n",
    "plt.xlabel('i')\n",
    "plt.ylabel('rho(i)')\n",
    "plt.grid()\n",
    "\n",
    "plt.show()"
   ]
  },
  {
   "cell_type": "markdown",
   "metadata": {},
   "source": [
    "### Online algorithms"
   ]
  },
  {
   "cell_type": "code",
   "execution_count": 37,
   "metadata": {},
   "outputs": [],
   "source": [
    "# Parameters\n",
    "\n",
    "trials = 1; z_dim = 10; alpha = 1.15\n",
    "\n",
    "iters = epochs*samples"
   ]
  },
  {
   "cell_type": "code",
   "execution_count": 38,
   "metadata": {},
   "outputs": [],
   "source": [
    "# Compute the number of dimensions that should be kept\n",
    "\n",
    "r = min(sum(1 for i in canonical_correlations if 1+i>alpha),z_dim)"
   ]
  },
  {
   "cell_type": "code",
   "execution_count": 39,
   "metadata": {},
   "outputs": [],
   "source": [
    "# Optimal subspace projections\n",
    "\n",
    "Ux = u[:,:r]\n",
    "Uy = vh.T[:,:r]\n",
    "\n",
    "Px_opt = Ux@Ux.T\n",
    "Py_opt = Uy@Uy.T"
   ]
  },
  {
   "cell_type": "code",
   "execution_count": 40,
   "metadata": {},
   "outputs": [],
   "source": [
    "adaptive_time = np.zeros((trials,iters))\n",
    "adaptive_Vx = np.zeros((trials,iters,x_dim,z_dim))\n",
    "adaptive_Vy = np.zeros((trials,iters,y_dim,z_dim))"
   ]
  },
  {
   "cell_type": "code",
   "execution_count": 41,
   "metadata": {},
   "outputs": [
    {
     "name": "stdout",
     "output_type": "stream",
     "text": [
      "Trial 1 out of 1:\n",
      "Running Adaptive Bio-CCA...\n",
      "Epoch 1 out of 3:\n",
      "Elapsed time: 3.3094940185546875 seconds\n",
      "Epoch 2 out of 3:\n",
      "Elapsed time: 6.610337972640991 seconds\n",
      "Epoch 3 out of 3:\n",
      "Elapsed time: 9.964159965515137 seconds\n",
      "Trials complete\n"
     ]
    }
   ],
   "source": [
    "start_time = time.time()\n",
    "\n",
    "for i_trial in range(trials):\n",
    "    \n",
    "    print(f'Trial {i_trial+1} out of {trials}:')\n",
    "                \n",
    "    # Initialize Adaptive Bio-CCA\n",
    "    \n",
    "    adaptive = adaptive_bio_cca(z_dim,x_dim,y_dim,alpha,dataset)\n",
    "            \n",
    "    # Run online algorithm\n",
    "    \n",
    "    print('Running Adaptive Bio-CCA...')\n",
    "            \n",
    "    for i_epoch in range(epochs):\n",
    "\n",
    "        print(f'Epoch {i_epoch+1} out of {epochs}:')\n",
    "\n",
    "        # Random permutation of the inputs\n",
    "\n",
    "        idx = np.random.permutation(samples)\n",
    "\n",
    "        # Online updates\n",
    "\n",
    "        for i_sample in range(samples):\n",
    "\n",
    "            i_iter = i_epoch*samples + i_sample\n",
    "\n",
    "            x = X[:,idx[i_sample]]\n",
    "            y = Y[:,idx[i_sample]]\n",
    "\n",
    "            # online updates\n",
    "\n",
    "            adaptive_Vx[i_trial,i_iter], adaptive_Vy[i_trial,i_iter] = adaptive.fit_next(x,y)\n",
    "            adaptive_time[i_trial,i_iter] = time.time() - start_time\n",
    "\n",
    "        print(f'Elapsed time: {time.time()-start_time} seconds')\n",
    "            \n",
    "print('Trials complete')"
   ]
  },
  {
   "cell_type": "markdown",
   "metadata": {},
   "source": [
    "### Compute errors"
   ]
  },
  {
   "cell_type": "code",
   "execution_count": 42,
   "metadata": {},
   "outputs": [],
   "source": [
    "domain = list(sorted(set(map(int, np.round(np.logspace(0, np.log10(iters), num=50, endpoint=False))))))"
   ]
  },
  {
   "cell_type": "code",
   "execution_count": 43,
   "metadata": {},
   "outputs": [],
   "source": [
    "adaptive_subspacex_error = np.zeros((trials,iters))"
   ]
  },
  {
   "cell_type": "code",
   "execution_count": 44,
   "metadata": {},
   "outputs": [],
   "source": [
    "for i_trial in range(trials):\n",
    "    for i_iter in domain:\n",
    "        ux, sx, vxh = np.linalg.svd(adaptive_Vx[i_trial,i_iter])\n",
    "        adaptive_subspacex_error[i_trial,i_iter] = subspace_error(ux[:,:r], Px_opt)"
   ]
  },
  {
   "cell_type": "markdown",
   "metadata": {},
   "source": [
    "### Plots"
   ]
  },
  {
   "cell_type": "code",
   "execution_count": 45,
   "metadata": {},
   "outputs": [],
   "source": [
    "font = {'weight' : 'normal', 'size' : 15}\n",
    "\n",
    "plt.rc('xtick', labelsize=13) \n",
    "plt.rc('ytick', labelsize=13) \n",
    "\n",
    "plt.rc('font', **font)"
   ]
  },
  {
   "cell_type": "code",
   "execution_count": 46,
   "metadata": {},
   "outputs": [
    {
     "data": {
      "image/png": "[encoded data removed]",
      "text/plain": [
       "<Figure size 360x720 with 2 Axes>"
      ]
     },
     "metadata": {
      "needs_background": "light"
     },
     "output_type": "display_data"
    }
   ],
   "source": [
    "linewidth = 2\n",
    "\n",
    "fig = plt.figure(figsize=(5,10))\n",
    "\n",
    "ax = plt.subplot(2, 1, 1)\n",
    "\n",
    "add_fill_lines(ax, domain, adaptive_subspacex_error[:,domain], plot_kwargs={'ls': '-', 'lw': linewidth, 'label': 'Adaptive Bio-CCA', 'color': 'tab:cyan'}, ci_kwargs={'color': 'tab:cyan'})\n",
    "\n",
    "ax.loglog()\n",
    "\n",
    "plt.title(f\"alpha = {alpha}, r = {r}\")\n",
    "plt.grid()\n",
    "plt.legend(loc = 'lower left')\n",
    "plt.xlim((1e2,iters))\n",
    "plt.xlabel('Sample #')\n",
    "plt.ylabel('Vx subspace error')\n",
    "\n",
    "ax = plt.subplot(2, 1, 2)\n",
    "\n",
    "add_fill_lines(ax, np.mean(adaptive_time[:,domain],axis=0), adaptive_subspacex_error[:,domain], plot_kwargs={'ls': '-', 'lw': linewidth, 'label': 'Adaptive Bio-CCA', 'color': 'tab:cyan'}, ci_kwargs={'color': 'tab:cyan'})\n",
    "\n",
    "ax.loglog()\n",
    "\n",
    "plt.grid()\n",
    "plt.legend(loc = 'lower left')\n",
    "plt.xlabel('Time (seconds)')\n",
    "plt.ylabel('Vx subspace error')\n",
    "\n",
    "plt.show()"
   ]
  },
  {
   "cell_type": "markdown",
   "metadata": {},
   "source": [
    "##### Whitening error"
   ]
  },
  {
   "cell_type": "code",
   "execution_count": null,
   "metadata": {},
   "outputs": [],
   "source": []
  }
 ],
 "metadata": {
  "kernelspec": {
   "display_name": "Python 3",
   "language": "python",
   "name": "python3"
  },
  "language_info": {
   "codemirror_mode": {
    "name": "ipython",
    "version": 3
   },
   "file_extension": ".py",
   "mimetype": "text/x-python",
   "name": "python",
   "nbconvert_exporter": "python",
   "pygments_lexer": "ipython3",
   "version": "3.8.3"
  }
 },
 "nbformat": 4,
 "nbformat_minor": 4
}
